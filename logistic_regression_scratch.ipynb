{
  "nbformat": 4,
  "nbformat_minor": 0,
  "metadata": {
    "colab": {
      "provenance": [],
      "authorship_tag": "ABX9TyORtPMxLFvb7KklkERT/4Ej",
      "include_colab_link": true
    },
    "kernelspec": {
      "name": "python3",
      "display_name": "Python 3"
    },
    "language_info": {
      "name": "python"
    }
  },
  "cells": [
    {
      "cell_type": "markdown",
      "metadata": {
        "id": "view-in-github",
        "colab_type": "text"
      },
      "source": [
        "<a href=\"https://colab.research.google.com/github/ShaheryarRafique/machine-learning/blob/main/logistic_regression_scratch.ipynb\" target=\"_parent\"><img src=\"https://colab.research.google.com/assets/colab-badge.svg\" alt=\"Open In Colab\"/></a>"
      ]
    },
    {
      "cell_type": "code",
      "execution_count": 1,
      "metadata": {
        "colab": {
          "base_uri": "https://localhost:8080/"
        },
        "id": "QSMV5avaDuD7",
        "outputId": "5fc26c54-42f2-49ab-82ca-c013ef40cb04"
      },
      "outputs": [
        {
          "output_type": "stream",
          "name": "stdout",
          "text": [
            "Mounted at /content/drive\n"
          ]
        }
      ],
      "source": [
        "from google.colab import drive\n",
        "drive.mount('/content/drive')"
      ]
    },
    {
      "cell_type": "code",
      "source": [
        "import os\n",
        "import numpy as np\n",
        "import librosa\n",
        "from sklearn.model_selection import train_test_split"
      ],
      "metadata": {
        "id": "i4QOrU62E-To"
      },
      "execution_count": 2,
      "outputs": []
    },
    {
      "cell_type": "code",
      "source": [
        "# Path to your Google Drive folder\n",
        "audio_folder = '/content/drive/My Drive/Recording_dataset'\n",
        "\n",
        "# Empty lists to store features and labels\n",
        "features = []\n",
        "labels = []\n",
        "\n",
        "# Loop over files\n",
        "for filename in os.listdir(audio_folder):\n",
        "    if filename.endswith('.wav'):\n",
        "\n",
        "        # Get first two characters as language code\n",
        "        lang_code = filename[:2]\n",
        "\n",
        "        # Assign numeric label\n",
        "        if lang_code == 'ur':\n",
        "            label = 0\n",
        "        elif lang_code == 'en':\n",
        "            label = 1\n",
        "        elif lang_code == 'eu':\n",
        "            label = 2  # Assuming 'eu' = mixed\n",
        "        else:\n",
        "            continue\n",
        "\n",
        "        file_path = os.path.join(audio_folder, filename)\n",
        "\n",
        "        # Load audio\n",
        "        audio, sr = librosa.load(file_path, sr=16000)\n",
        "\n",
        "        # Extract 13 MFCCs\n",
        "        mfcc = librosa.feature.mfcc(y=audio, sr=sr, n_mfcc=13)\n",
        "\n",
        "        # Average MFCCs over time to get fixed-size vector\n",
        "        mfcc_mean = np.mean(mfcc, axis=1)\n",
        "\n",
        "        # Append x0 = 1 for bias term\n",
        "        mfcc_with_bias = np.insert(mfcc_mean, 0, 1)\n",
        "\n",
        "        # Store features and label\n",
        "        features.append(mfcc_with_bias)\n",
        "        labels.append(label)\n",
        "\n",
        "print(f\"Total samples processed: {len(features)}\")"
      ],
      "metadata": {
        "colab": {
          "base_uri": "https://localhost:8080/"
        },
        "id": "GAQttWhJFS61",
        "outputId": "ea7ff0b4-d24d-4917-e3e4-125a94796680"
      },
      "execution_count": 3,
      "outputs": [
        {
          "output_type": "stream",
          "name": "stdout",
          "text": [
            "Total samples processed: 125\n"
          ]
        }
      ]
    },
    {
      "cell_type": "code",
      "source": [
        "# Convert lists to numpy arrays\n",
        "X = np.array(features)\n",
        "y = np.array(labels)\n",
        "\n",
        "print(f\"Feature matrix shape: {X.shape}\")  # (num_samples, 14)\n",
        "print(f\"Labels shape: {y.shape}\")          # (num_samples,)\n",
        "\n",
        "# Split data into train and test sets (80% train, 20% test)\n",
        "X_train, X_test, y_train, y_test = train_test_split(\n",
        "    X, y, test_size=0.2, random_state=42, stratify=y)\n",
        "\n",
        "print(f\"Training samples: {X_train.shape[0]}\")\n",
        "print(f\"Testing samples: {X_test.shape[0]}\")"
      ],
      "metadata": {
        "colab": {
          "base_uri": "https://localhost:8080/"
        },
        "id": "U3XTLVPyFoJZ",
        "outputId": "87b398be-7fdd-4639-a474-8743b7e09a75"
      },
      "execution_count": 4,
      "outputs": [
        {
          "output_type": "stream",
          "name": "stdout",
          "text": [
            "Feature matrix shape: (125, 14)\n",
            "Labels shape: (125,)\n",
            "Training samples: 100\n",
            "Testing samples: 25\n"
          ]
        }
      ]
    },
    {
      "cell_type": "markdown",
      "source": [
        "# **Softmax Function**"
      ],
      "metadata": {
        "id": "gTfeyHsqfjuy"
      }
    },
    {
      "cell_type": "code",
      "source": [
        "import numpy as np\n",
        "\n",
        "def softmax(z):\n",
        "    \"\"\"\n",
        "    z: shape (num_samples, num_classes)\n",
        "    returns: probabilities, same shape\n",
        "    \"\"\"\n",
        "    exp_z = np.exp(z - np.max(z, axis=1, keepdims=True))  # stability\n",
        "    return exp_z / np.sum(exp_z, axis=1, keepdims=True)\n"
      ],
      "metadata": {
        "id": "BSeqv6flF701"
      },
      "execution_count": 5,
      "outputs": []
    },
    {
      "cell_type": "markdown",
      "source": [
        "# **Cross-Entropy Loss Function**"
      ],
      "metadata": {
        "id": "sts1c2CyfZGE"
      }
    },
    {
      "cell_type": "code",
      "source": [
        "def cross_entropy_loss(y_true, y_pred):\n",
        "    \"\"\"\n",
        "    y_true: (num_samples,) - actual class labels\n",
        "    y_pred: (num_samples, num_classes) - predicted probabilities\n",
        "    \"\"\"\n",
        "    num_samples = y_true.shape[0]\n",
        "    # log probability of the correct class\n",
        "    correct_log_probs = -np.log(y_pred[np.arange(num_samples), y_true] + 1e-15)\n",
        "    loss = np.mean(correct_log_probs)\n",
        "    return loss"
      ],
      "metadata": {
        "id": "Ir2P9g8aeIrj"
      },
      "execution_count": 6,
      "outputs": []
    },
    {
      "cell_type": "markdown",
      "source": [
        "# **Training Function with Gradient Descent**"
      ],
      "metadata": {
        "id": "r0N-nM6EoBl2"
      }
    },
    {
      "cell_type": "code",
      "source": [
        "def train_logistic_regression(X, y, num_classes=3, lr=0.1, epochs=500):\n",
        "    num_samples, num_features = X.shape\n",
        "\n",
        "    # Initialize weight matrix: shape (features, classes)\n",
        "    W = np.zeros((num_features, num_classes))\n",
        "\n",
        "    loss_history = []\n",
        "\n",
        "    for epoch in range(epochs):\n",
        "        # Step 1: Forward pass – compute scores\n",
        "        scores = np.dot(X, W)  # shape: (samples, classes)\n",
        "\n",
        "        # Step 2: Apply softmax to get class probabilities\n",
        "        probs = softmax(scores)  # shape: (samples, classes)\n",
        "\n",
        "        # Step 3: Compute loss\n",
        "        loss = cross_entropy_loss(y, probs)\n",
        "        loss_history.append(loss)\n",
        "\n",
        "        # Step 4: Compute gradient\n",
        "        y_one_hot = np.eye(num_classes)[y]  # Convert labels to one-hot\n",
        "        gradient = np.dot(X.T, (probs - y_one_hot)) / num_samples\n",
        "\n",
        "        # Step 5: Update weights\n",
        "        W -= lr * gradient\n",
        "\n",
        "        # Print loss occasionally\n",
        "        if (epoch + 1) % 100 == 0 or epoch == 0:\n",
        "            print(f\"Epoch {epoch + 1}, Loss: {loss:.4f}\")\n",
        "\n",
        "    return W, loss_history"
      ],
      "metadata": {
        "id": "JMfKnKeMipkt"
      },
      "execution_count": 7,
      "outputs": []
    },
    {
      "cell_type": "markdown",
      "source": [
        "# **Train Logistic Regression from Scratch**"
      ],
      "metadata": {
        "id": "qJ_nBzG1Id38"
      }
    },
    {
      "cell_type": "code",
      "source": [
        "W, loss_history = train_logistic_regression(X_train, y_train, num_classes=3, lr=0.1, epochs=600)"
      ],
      "metadata": {
        "colab": {
          "base_uri": "https://localhost:8080/"
        },
        "id": "xVRIW5nAiwJo",
        "outputId": "adbc91af-b53a-462c-f063-66291dbce9cf"
      },
      "execution_count": 11,
      "outputs": [
        {
          "output_type": "stream",
          "name": "stdout",
          "text": [
            "Epoch 1, Loss: 1.0986\n",
            "Epoch 100, Loss: 11.0524\n",
            "Epoch 200, Loss: 8.2893\n",
            "Epoch 300, Loss: 8.9800\n",
            "Epoch 400, Loss: 5.1808\n",
            "Epoch 500, Loss: 3.1085\n",
            "Epoch 600, Loss: 2.4177\n"
          ]
        }
      ]
    },
    {
      "cell_type": "markdown",
      "source": [
        "# **Predict Function**"
      ],
      "metadata": {
        "id": "7Af3z43zI7d8"
      }
    },
    {
      "cell_type": "code",
      "source": [
        "def predict(X, W):\n",
        "    \"\"\"\n",
        "    X: feature matrix of shape (num_samples, num_features)\n",
        "    W: learned weights of shape (num_features, num_classes)\n",
        "    Returns: predicted class labels, shape (num_samples,)\n",
        "    \"\"\"\n",
        "    scores = np.dot(X, W)  # compute raw scores\n",
        "    probs = softmax(scores)  # apply softmax for probabilities\n",
        "    predictions = np.argmax(probs, axis=1)  # pick class with highest prob\n",
        "    return predictions"
      ],
      "metadata": {
        "id": "tGX9TkOEIfwP"
      },
      "execution_count": 12,
      "outputs": []
    },
    {
      "cell_type": "markdown",
      "source": [
        "# **Evaluate Function**"
      ],
      "metadata": {
        "id": "L0ckuHmQJqMt"
      }
    },
    {
      "cell_type": "code",
      "source": [
        "from sklearn.metrics import accuracy_score, confusion_matrix\n",
        "\n",
        "def evaluate(y_true, y_pred):\n",
        "    \"\"\"\n",
        "    y_true: true class labels (array of shape (num_samples,))\n",
        "    y_pred: predicted class labels (array of shape (num_samples,))\n",
        "    \"\"\"\n",
        "    acc = accuracy_score(y_true, y_pred)\n",
        "    cm = confusion_matrix(y_true, y_pred)\n",
        "\n",
        "    print(f\"Accuracy: {acc:.4f}\")\n",
        "    print(\"Confusion Matrix:\")\n",
        "    print(cm)"
      ],
      "metadata": {
        "id": "FBdFD39RJHxu"
      },
      "execution_count": 16,
      "outputs": []
    },
    {
      "cell_type": "markdown",
      "source": [
        "# **Full Evaluation Function**"
      ],
      "metadata": {
        "id": "dMK-qEa2KXhH"
      }
    },
    {
      "cell_type": "code",
      "source": [
        "from sklearn.metrics import classification_report\n",
        "\n",
        "def full_evaluation(y_true, y_pred, labels=[\"Urdu\", \"English\", \"Mixed\"]):\n",
        "    \"\"\"\n",
        "    Prints precision, recall, F1-score for each class and macro averages.\n",
        "    \"\"\"\n",
        "    print(\"Classification Report:\\n\")\n",
        "    print(classification_report(y_true, y_pred, target_names=labels, digits=4))"
      ],
      "metadata": {
        "id": "NjW_5jL9JTBL"
      },
      "execution_count": 17,
      "outputs": []
    },
    {
      "cell_type": "code",
      "source": [
        "y_pred = predict(X_test, W)"
      ],
      "metadata": {
        "id": "AtZ930l6KZXR"
      },
      "execution_count": 18,
      "outputs": []
    },
    {
      "cell_type": "code",
      "source": [
        "full_evaluation(y_test, y_pred)\n"
      ],
      "metadata": {
        "colab": {
          "base_uri": "https://localhost:8080/"
        },
        "id": "4NDVZjkVKe48",
        "outputId": "d2cd12b2-919c-4ac7-fa1c-41d6d7cf9ccf"
      },
      "execution_count": 19,
      "outputs": [
        {
          "output_type": "stream",
          "name": "stdout",
          "text": [
            "Classification Report:\n",
            "\n",
            "              precision    recall  f1-score   support\n",
            "\n",
            "        Urdu     0.9091    0.9091    0.9091        11\n",
            "     English     0.8571    1.0000    0.9231         6\n",
            "       Mixed     1.0000    0.8750    0.9333         8\n",
            "\n",
            "    accuracy                         0.9200        25\n",
            "   macro avg     0.9221    0.9280    0.9218        25\n",
            "weighted avg     0.9257    0.9200    0.9202        25\n",
            "\n"
          ]
        }
      ]
    },
    {
      "cell_type": "code",
      "source": [
        "evaluate(y_test, y_pred)\n"
      ],
      "metadata": {
        "colab": {
          "base_uri": "https://localhost:8080/"
        },
        "id": "4i2RYx3rKglW",
        "outputId": "56ec8f6b-9d8f-4e73-a556-37e10f724c0e"
      },
      "execution_count": 20,
      "outputs": [
        {
          "output_type": "stream",
          "name": "stdout",
          "text": [
            "Accuracy: 0.9200\n",
            "Confusion Matrix:\n",
            "[[10  1  0]\n",
            " [ 0  6  0]\n",
            " [ 1  0  7]]\n"
          ]
        }
      ]
    },
    {
      "cell_type": "markdown",
      "source": [
        "# **Plotting Loss Curve**"
      ],
      "metadata": {
        "id": "Pw3kuJ74LIvI"
      }
    },
    {
      "cell_type": "code",
      "source": [
        "import matplotlib.pyplot as plt\n",
        "\n",
        "def plot_loss(loss_history, lr, label=\"Training Loss\"):\n",
        "    plt.plot(loss_history, label=f\"{label}, lr={lr}\")\n",
        "    plt.xlabel(\"Epochs\")\n",
        "    plt.ylabel(\"Loss\")\n",
        "    plt.title(\"Training Loss Curve\")\n",
        "    plt.grid()\n",
        "    plt.legend()\n"
      ],
      "metadata": {
        "id": "njivB_5bKqde"
      },
      "execution_count": 21,
      "outputs": []
    },
    {
      "cell_type": "code",
      "source": [
        "lrs = [0.01, 0.1, 0.5]\n",
        "epochs = 500\n",
        "\n",
        "for lr in lrs:\n",
        "    _, loss_history = train_logistic_regression(X_train, y_train, lr=lr, epochs=epochs)\n",
        "    plot_loss(loss_history, lr)\n"
      ],
      "metadata": {
        "colab": {
          "base_uri": "https://localhost:8080/",
          "height": 793
        },
        "id": "g7-F8dnTLTbg",
        "outputId": "c5c0fc67-d3f3-4219-e46f-fa04e0606d48"
      },
      "execution_count": 22,
      "outputs": [
        {
          "output_type": "stream",
          "name": "stdout",
          "text": [
            "Epoch 1, Loss: 1.0986\n",
            "Epoch 100, Loss: 15.1971\n",
            "Epoch 200, Loss: 15.1971\n",
            "Epoch 300, Loss: 9.6709\n",
            "Epoch 400, Loss: 9.6779\n",
            "Epoch 500, Loss: 2.4177\n",
            "Epoch 1, Loss: 1.0986\n",
            "Epoch 100, Loss: 11.0524\n",
            "Epoch 200, Loss: 8.2893\n",
            "Epoch 300, Loss: 8.9800\n",
            "Epoch 400, Loss: 5.1808\n",
            "Epoch 500, Loss: 3.1085\n",
            "Epoch 1, Loss: 1.0986\n",
            "Epoch 100, Loss: 15.8878\n",
            "Epoch 200, Loss: 13.8155\n",
            "Epoch 300, Loss: 10.3616\n",
            "Epoch 400, Loss: 10.0162\n",
            "Epoch 500, Loss: 2.4177\n"
          ]
        },
        {
          "output_type": "display_data",
          "data": {
            "text/plain": [
              "<Figure size 640x480 with 1 Axes>"
            ],
            "image/png": "[encoded data removed]"
          },
          "metadata": {}
        }
      ]
    },
    {
      "cell_type": "code",
      "source": [
        "plt.show()\n"
      ],
      "metadata": {
        "id": "Lpw4YBkVLY83"
      },
      "execution_count": 23,
      "outputs": []
    },
    {
      "cell_type": "code",
      "source": [],
      "metadata": {
        "id": "OvaY45GoMzcf"
      },
      "execution_count": null,
      "outputs": []
    }
  ]
}