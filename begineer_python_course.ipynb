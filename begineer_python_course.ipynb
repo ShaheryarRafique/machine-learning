{
  "nbformat": 4,
  "nbformat_minor": 0,
  "metadata": {
    "kernelspec": {
      "display_name": "Python 3",
      "language": "python",
      "name": "python3"
    },
    "language_info": {
      "codemirror_mode": {
        "name": "ipython",
        "version": 3
      },
      "file_extension": ".py",
      "mimetype": "text/x-python",
      "name": "python",
      "nbconvert_exporter": "python",
      "pygments_lexer": "ipython3",
      "version": "3.7.5"
    },
    "colab": {
      "provenance": [],
      "collapsed_sections": [
        "Y70GeIJgWKSZ",
        "yjv8odw0WKSb"
      ],
      "include_colab_link": true
    }
  },
  "cells": [
    {
      "cell_type": "markdown",
      "metadata": {
        "id": "view-in-github",
        "colab_type": "text"
      },
      "source": [
        "<a href=\"https://colab.research.google.com/github/ShaheryarRafique/machine-learning/blob/main/begineer_python_course.ipynb\" target=\"_parent\"><img src=\"https://colab.research.google.com/assets/colab-badge.svg\" alt=\"Open In Colab\"/></a>"
      ]
    },
    {
      "cell_type": "markdown",
      "metadata": {
        "id": "occYz8iXWKQk"
      },
      "source": [
        "# Programming Assignment 0: Python Tutorial\n",
        "\n",
        "Credits: This notebook is based on a [Python tutorial](http://cs231n.github.io/python-numpy-tutorial/) by [Justin Johnson](https://web.eecs.umich.edu/~justincj/) for [CS231n](http://cs231n.github.io/)."
      ]
    },
    {
      "cell_type": "markdown",
      "metadata": {
        "id": "W-trfVF5WKQw"
      },
      "source": [
        "## Introduction"
      ]
    },
    {
      "cell_type": "markdown",
      "metadata": {
        "id": "zR7IRFdyWKQy"
      },
      "source": [
        "We will use the Python programming language for all assignments in this course. Python is a great general-purpose programming language on its own, but with the help of a few popular libraries (numpy, scipy, matplotlib) it becomes a powerful environment for scientific computing.\n",
        "\n",
        "We expect that many of you will have some experience with Python and numpy; for the rest of you, this section will serve as a quick crash course both on the Python programming language and on the use of Python for scientific computing."
      ]
    },
    {
      "cell_type": "markdown",
      "metadata": {
        "id": "A1LyBMR8WKQ1"
      },
      "source": [
        "In this tutorial, we will cover:\n",
        "\n",
        "* Basic Python: Basic data types (Containers, Lists, Dictionaries, Sets, Tuples), Functions, Classes\n",
        "* Numpy: Arrays, Array indexing, Datatypes, Array math, Broadcasting\n",
        "* Matplotlib: Plotting, Subplots, Images\n",
        "* IPython: Creating notebooks, Typical workflows"
      ]
    },
    {
      "cell_type": "markdown",
      "metadata": {
        "id": "bdv-xJ-VWKQ3"
      },
      "source": [
        "## Basics of Python"
      ]
    },
    {
      "cell_type": "markdown",
      "metadata": {
        "id": "G78id_A-WKQ4"
      },
      "source": [
        "Python is a high-level, dynamically typed multiparadigm programming language. Python code is often said to be almost like pseudocode, since it allows you to express very powerful ideas in very few lines of code while being very readable. As an example, here is an implementation of the classic quicksort algorithm in Python:"
      ]
    },
    {
      "cell_type": "code",
      "metadata": {
        "id": "-rtIO5QqWKQ6",
        "colab": {
          "base_uri": "https://localhost:8080/"
        },
        "outputId": "fb6fc395-e070-4e49-c265-906850d18b91"
      },
      "source": [
        "def quicksort(arr):\n",
        "    if len(arr) <= 1:\n",
        "        return arr\n",
        "    pivot = arr[len(arr) // 2]\n",
        "    left = [x for x in arr if x < pivot]\n",
        "    middle = [x for x in arr if x == pivot]\n",
        "    right = [x for x in arr if x > pivot]\n",
        "    return quicksort(left) + middle + quicksort(right)\n",
        "\n",
        "print(quicksort([3,6,8,10,1,2,1]))\n",
        "# Prints \"[1, 1, 2, 3, 6, 8, 10]\""
      ],
      "execution_count": 1,
      "outputs": [
        {
          "output_type": "stream",
          "name": "stdout",
          "text": [
            "[1, 1, 2, 3, 6, 8, 10]\n"
          ]
        }
      ]
    },
    {
      "cell_type": "markdown",
      "metadata": {
        "id": "90nqR-PyWKQ-"
      },
      "source": [
        "### Python versions"
      ]
    },
    {
      "cell_type": "markdown",
      "metadata": {
        "id": "7R_NmqJrWKQ_"
      },
      "source": [
        "For this class all code will use Python 3.7. You can check your Python version by executing the cell below:"
      ]
    },
    {
      "cell_type": "code",
      "metadata": {
        "id": "_GCl5VfmWKRB",
        "colab": {
          "base_uri": "https://localhost:8080/"
        },
        "outputId": "a07ab05a-bcdb-4c4c-f741-7c9b7dade1e3"
      },
      "source": [
        "!py -3 --version"
      ],
      "execution_count": 2,
      "outputs": [
        {
          "output_type": "stream",
          "name": "stdout",
          "text": [
            "/bin/bash: line 1: py: command not found\n"
          ]
        }
      ]
    },
    {
      "cell_type": "markdown",
      "metadata": {
        "id": "rUJqaUE7WKRD"
      },
      "source": [
        "### Basic data types"
      ]
    },
    {
      "cell_type": "markdown",
      "metadata": {
        "id": "iCRB131rWKRE"
      },
      "source": [
        "#### Numbers"
      ]
    },
    {
      "cell_type": "markdown",
      "metadata": {
        "id": "vmWbDg3OWKRF"
      },
      "source": [
        "Integers and floats work as you would expect from other languages:"
      ]
    },
    {
      "cell_type": "code",
      "metadata": {
        "id": "Gvp0I3p6WKRG",
        "colab": {
          "base_uri": "https://localhost:8080/"
        },
        "outputId": "82cb6e78-fbf6-4478-bd1f-3eafa856bb64"
      },
      "source": [
        "x = 3\n",
        "print(type(x)) # Prints \"<class 'int'>\"\n",
        "print(x)       # Prints \"3\""
      ],
      "execution_count": 3,
      "outputs": [
        {
          "output_type": "stream",
          "name": "stdout",
          "text": [
            "<class 'int'>\n",
            "3\n"
          ]
        }
      ]
    },
    {
      "cell_type": "code",
      "metadata": {
        "id": "vCByb8r0WKRG",
        "colab": {
          "base_uri": "https://localhost:8080/"
        },
        "outputId": "e3883a40-6605-44f6-d9de-c1b81db1e03e"
      },
      "source": [
        "print(x + 1)   # Addition; prints \"4\"\n",
        "print(x - 1)   # Subtraction; prints \"2\"\n",
        "print(x * 2)   # Multiplication; prints \"6\"\n",
        "print(x ** 2)  # Exponentiation; prints \"9\""
      ],
      "execution_count": 4,
      "outputs": [
        {
          "output_type": "stream",
          "name": "stdout",
          "text": [
            "4\n",
            "2\n",
            "6\n",
            "9\n"
          ]
        }
      ]
    },
    {
      "cell_type": "code",
      "metadata": {
        "id": "M8kvYCWbWKRH",
        "colab": {
          "base_uri": "https://localhost:8080/"
        },
        "outputId": "a5a95e86-0d7c-40d3-c9c3-879c69ee163b"
      },
      "source": [
        "x += 1\n",
        "print(x)  # Prints \"4\"\n",
        "x *= 2\n",
        "print(x)  # Prints \"8\""
      ],
      "execution_count": 5,
      "outputs": [
        {
          "output_type": "stream",
          "name": "stdout",
          "text": [
            "4\n",
            "8\n"
          ]
        }
      ]
    },
    {
      "cell_type": "code",
      "metadata": {
        "id": "JgGZ9niAWKRI",
        "colab": {
          "base_uri": "https://localhost:8080/"
        },
        "outputId": "7569ec02-2ce3-4858-bbdd-8c6269d55577"
      },
      "source": [
        "y = 2.5\n",
        "print(type(y)) # Prints \"<class 'float'>\"\n",
        "print(y, y + 1, y * 2, y ** 2) # Prints \"2.5 3.5 5.0 6.25\""
      ],
      "execution_count": 6,
      "outputs": [
        {
          "output_type": "stream",
          "name": "stdout",
          "text": [
            "<class 'float'>\n",
            "2.5 3.5 5.0 6.25\n"
          ]
        }
      ]
    },
    {
      "cell_type": "markdown",
      "metadata": {
        "id": "CiLEtnVKWKRK"
      },
      "source": [
        "Note that unlike many languages, Python does not have unary increment (x++) or decrement (x--) operators.\n",
        "\n",
        "Python also has built-in types for long integers and complex numbers; you can find all of the details in the [documentation](https://docs.python.org/3.7/library/stdtypes.html#numeric-types-int-float-complex)."
      ]
    },
    {
      "cell_type": "markdown",
      "metadata": {
        "id": "PlxHAPYfWKRK"
      },
      "source": [
        "#### Booleans"
      ]
    },
    {
      "cell_type": "markdown",
      "metadata": {
        "id": "Fr6CZepgWKRL"
      },
      "source": [
        "Python implements all of the usual operators for Boolean logic, but uses English words rather than symbols (`&&`, `||`, etc.):"
      ]
    },
    {
      "cell_type": "code",
      "metadata": {
        "id": "LW9CK7R7WKRM",
        "colab": {
          "base_uri": "https://localhost:8080/"
        },
        "outputId": "0ec08b4b-8395-472c-f962-0db34f204ad6"
      },
      "source": [
        "t = True\n",
        "f = False\n",
        "print(type(t)) # Prints \"<class 'bool'>\"\n",
        "print(t and f) # Logical AND; prints \"False\"\n",
        "print(t or f)  # Logical OR; prints \"True\"\n",
        "print(not t)   # Logical NOT; prints \"False\"\n",
        "print(t != f)  # Logical XOR; prints \"True\""
      ],
      "execution_count": 7,
      "outputs": [
        {
          "output_type": "stream",
          "name": "stdout",
          "text": [
            "<class 'bool'>\n",
            "False\n",
            "True\n",
            "False\n",
            "True\n"
          ]
        }
      ]
    },
    {
      "cell_type": "markdown",
      "metadata": {
        "id": "fXqBE_oOWKRM"
      },
      "source": [
        "#### Strings\n",
        "\n",
        "Python has great support for strings:"
      ]
    },
    {
      "cell_type": "code",
      "metadata": {
        "id": "0XeQcNmPWKRN",
        "colab": {
          "base_uri": "https://localhost:8080/"
        },
        "outputId": "af1cc010-0871-4dc2-8af4-00c5dc6d238d"
      },
      "source": [
        "hello = 'hello'    # String literals can use single quotes\n",
        "world = \"world\"    # or double quotes; it does not matter.\n",
        "print(hello)       # Prints \"hello\"\n",
        "print(len(hello))  # String length; prints \"5\"\n",
        "hw = hello + ' ' + world  # String concatenation\n",
        "print(hw)  # prints \"hello world\"\n",
        "hw12 = '%s %s %d' % (hello, world, 12)  # sprintf style string formatting\n",
        "print(hw12)  # prints \"hello world 12\""
      ],
      "execution_count": 8,
      "outputs": [
        {
          "output_type": "stream",
          "name": "stdout",
          "text": [
            "hello\n",
            "5\n",
            "hello world\n",
            "hello world 12\n"
          ]
        }
      ]
    },
    {
      "cell_type": "markdown",
      "metadata": {
        "id": "dVne6LXbWKRO"
      },
      "source": [
        "String objects have a bunch of useful methods; for example:"
      ]
    },
    {
      "cell_type": "code",
      "metadata": {
        "id": "OWT9hYmUWKRP",
        "colab": {
          "base_uri": "https://localhost:8080/"
        },
        "outputId": "67a821aa-a0ae-4141-dc18-80e7e084a923"
      },
      "source": [
        "s = \"hello\"\n",
        "print(s.capitalize())  # Capitalize a string; prints \"Hello\"\n",
        "print(s.upper())       # Convert a string to uppercase; prints \"HELLO\"\n",
        "print(s.rjust(7))      # Right-justify a string, padding with spaces; prints \"  hello\"\n",
        "print(s.center(7))     # Center a string, padding with spaces; prints \" hello \"\n",
        "print(s.replace('l', '(ell)'))  # Replace all instances of one substring with another;\n",
        "                                # prints \"he(ell)(ell)o\"\n",
        "print('  world '.strip())  # Strip leading and trailing whitespace; prints \"world\""
      ],
      "execution_count": 9,
      "outputs": [
        {
          "output_type": "stream",
          "name": "stdout",
          "text": [
            "Hello\n",
            "HELLO\n",
            "  hello\n",
            " hello \n",
            "he(ell)(ell)o\n",
            "world\n"
          ]
        }
      ]
    },
    {
      "cell_type": "markdown",
      "metadata": {
        "id": "sEiCd17mWKRR"
      },
      "source": [
        "You can find a list of all string methods in the [documentation](https://docs.python.org/3.7/library/stdtypes.html#string-methods)."
      ]
    },
    {
      "cell_type": "markdown",
      "metadata": {
        "id": "1sT-jG2mWKRS"
      },
      "source": [
        "### Containers"
      ]
    },
    {
      "cell_type": "markdown",
      "metadata": {
        "id": "XJY9zJhFWKRS"
      },
      "source": [
        "Python includes several built-in container types: lists, dictionaries, sets, and tuples."
      ]
    },
    {
      "cell_type": "markdown",
      "metadata": {
        "id": "koPtVnfrWKRT"
      },
      "source": [
        "#### Lists"
      ]
    },
    {
      "cell_type": "markdown",
      "metadata": {
        "id": "LLOlN2a-WKRV"
      },
      "source": [
        "A list is the Python equivalent of an array, but is resizeable and can contain elements of different types:"
      ]
    },
    {
      "cell_type": "code",
      "metadata": {
        "id": "721AsuibWKRW",
        "colab": {
          "base_uri": "https://localhost:8080/"
        },
        "outputId": "be6e7d7b-0095-4fa8-a65e-e32f7a9b1f37"
      },
      "source": [
        "xs = [3, 1, 2]    # Create a list\n",
        "print(xs, xs[2])  # Prints \"[3, 1, 2] 2\"\n",
        "print(xs[-1])     # Negative indices count from the end of the list; prints \"2\"\n",
        "xs[2] = 'foo'     # Lists can contain elements of different types\n",
        "print(xs)         # Prints \"[3, 1, 'foo']\"\n",
        "xs.append('bar')  # Add a new element to the end of the list\n",
        "print(xs)         # Prints \"[3, 1, 'foo', 'bar']\"\n",
        "x = xs.pop()      # Remove and return the last element of the list\n",
        "print(x, xs)      # Prints \"bar [3, 1, 'foo']\""
      ],
      "execution_count": 10,
      "outputs": [
        {
          "output_type": "stream",
          "name": "stdout",
          "text": [
            "[3, 1, 2] 2\n",
            "2\n",
            "[3, 1, 'foo']\n",
            "[3, 1, 'foo', 'bar']\n",
            "bar [3, 1, 'foo']\n"
          ]
        }
      ]
    },
    {
      "cell_type": "markdown",
      "metadata": {
        "id": "qF_gZH_-WKRX"
      },
      "source": [
        "As usual, you can find all the gory details about lists in the [documentation](https://docs.python.org/3.7/tutorial/datastructures.html#more-on-lists)."
      ]
    },
    {
      "cell_type": "markdown",
      "metadata": {
        "id": "iYNOm2OWWKRY"
      },
      "source": [
        "##### Slicing"
      ]
    },
    {
      "cell_type": "markdown",
      "metadata": {
        "id": "ols_O8sMWKRZ"
      },
      "source": [
        "In addition to accessing list elements one at a time, Python provides concise syntax to access sublists; this is known as slicing:"
      ]
    },
    {
      "cell_type": "code",
      "metadata": {
        "id": "P9oCx5TLWKRZ",
        "colab": {
          "base_uri": "https://localhost:8080/"
        },
        "outputId": "6071f186-dce7-4415-f7e6-b21d57fde0a1"
      },
      "source": [
        "nums = list(range(5))     # range is a built-in function that creates a list of integers\n",
        "print(nums)               # Prints \"[0, 1, 2, 3, 4]\"\n",
        "print(nums[2:4])          # Get a slice from index 2 to 4 (exclusive); prints \"[2, 3]\"\n",
        "print(nums[2:])           # Get a slice from index 2 to the end; prints \"[2, 3, 4]\"\n",
        "print(nums[:2])           # Get a slice from the start to index 2 (exclusive); prints \"[0, 1]\"\n",
        "print(nums[:])            # Get a slice of the whole list; prints \"[0, 1, 2, 3, 4]\"\n",
        "print(nums[:-1])          # Slice indices can be negative; prints \"[0, 1, 2, 3]\"\n",
        "nums[2:4] = [8, 9]        # Assign a new sublist to a slice\n",
        "print(nums)               # Prints \"[0, 1, 8, 9, 4]\""
      ],
      "execution_count": 11,
      "outputs": [
        {
          "output_type": "stream",
          "name": "stdout",
          "text": [
            "[0, 1, 2, 3, 4]\n",
            "[2, 3]\n",
            "[2, 3, 4]\n",
            "[0, 1]\n",
            "[0, 1, 2, 3, 4]\n",
            "[0, 1, 2, 3]\n",
            "[0, 1, 8, 9, 4]\n"
          ]
        }
      ]
    },
    {
      "cell_type": "markdown",
      "metadata": {
        "id": "fuV6A-OyWKRa"
      },
      "source": [
        "##### Loops"
      ]
    },
    {
      "cell_type": "markdown",
      "metadata": {
        "id": "E6_9iRsRWKRb"
      },
      "source": [
        "You can loop over the elements of a list like this:"
      ]
    },
    {
      "cell_type": "code",
      "metadata": {
        "id": "5sbYXMb-WKRb",
        "colab": {
          "base_uri": "https://localhost:8080/"
        },
        "outputId": "4b4043ba-0cfb-4922-8205-98a1c682298e"
      },
      "source": [
        "animals = ['cat', 'dog', 'monkey']\n",
        "for animal in animals:\n",
        "    print(animal)\n",
        "# Prints \"cat\", \"dog\", \"monkey\", each on its own line."
      ],
      "execution_count": 12,
      "outputs": [
        {
          "output_type": "stream",
          "name": "stdout",
          "text": [
            "cat\n",
            "dog\n",
            "monkey\n"
          ]
        }
      ]
    },
    {
      "cell_type": "markdown",
      "metadata": {
        "id": "T6AP24tLWKRb"
      },
      "source": [
        "If you want access to the index of each element within the body of a loop, use the built-in `enumerate` function:"
      ]
    },
    {
      "cell_type": "code",
      "metadata": {
        "id": "B9gICtLPWKRc",
        "colab": {
          "base_uri": "https://localhost:8080/"
        },
        "outputId": "71c967e7-5762-4c6d-d81b-21d87bdf631c"
      },
      "source": [
        "animals = ['cat', 'dog', 'monkey']\n",
        "for idx, animal in enumerate(animals):\n",
        "    print('#%d: %s' % (idx + 1, animal))\n",
        "# Prints \"#1: cat\", \"#2: dog\", \"#3: monkey\", each on its own line"
      ],
      "execution_count": 13,
      "outputs": [
        {
          "output_type": "stream",
          "name": "stdout",
          "text": [
            "#1: cat\n",
            "#2: dog\n",
            "#3: monkey\n"
          ]
        }
      ]
    },
    {
      "cell_type": "markdown",
      "metadata": {
        "id": "Ns8c1kUJWKRc"
      },
      "source": [
        "##### List comprehensions:"
      ]
    },
    {
      "cell_type": "markdown",
      "metadata": {
        "id": "Mw0WiWpTWKRd"
      },
      "source": [
        "When programming, frequently we want to transform one type of data into another. As a simple example, consider the following code that computes square numbers:"
      ]
    },
    {
      "cell_type": "code",
      "metadata": {
        "id": "rwt9iY-9WKRd",
        "colab": {
          "base_uri": "https://localhost:8080/"
        },
        "outputId": "62a63fe4-49e5-4619-dc40-4f18f50f8e1f"
      },
      "source": [
        "nums = [0, 1, 2, 3, 4]\n",
        "squares = []\n",
        "for x in nums:\n",
        "    squares.append(x ** 2)\n",
        "print(squares)   # Prints [0, 1, 4, 9, 16]"
      ],
      "execution_count": 14,
      "outputs": [
        {
          "output_type": "stream",
          "name": "stdout",
          "text": [
            "[0, 1, 4, 9, 16]\n"
          ]
        }
      ]
    },
    {
      "cell_type": "markdown",
      "metadata": {
        "id": "zln903BXWKRe"
      },
      "source": [
        "You can make this code simpler using a list comprehension:"
      ]
    },
    {
      "cell_type": "code",
      "metadata": {
        "id": "-qwt30seWKRe",
        "colab": {
          "base_uri": "https://localhost:8080/"
        },
        "outputId": "fce2d8c6-d894-4d4c-a958-79be4bd56365"
      },
      "source": [
        "nums = [0, 1, 2, 3, 4]\n",
        "squares = [x ** 2 for x in nums]\n",
        "print(squares)   # Prints [0, 1, 4, 9, 16]"
      ],
      "execution_count": 15,
      "outputs": [
        {
          "output_type": "stream",
          "name": "stdout",
          "text": [
            "[0, 1, 4, 9, 16]\n"
          ]
        }
      ]
    },
    {
      "cell_type": "markdown",
      "metadata": {
        "id": "sqTWOBJtWKRf"
      },
      "source": [
        "List comprehensions can also contain conditions:"
      ]
    },
    {
      "cell_type": "code",
      "metadata": {
        "id": "6ZH4uijNWKRf",
        "colab": {
          "base_uri": "https://localhost:8080/"
        },
        "outputId": "7f8510c3-4266-48d0-82a0-b9b96bbd1080"
      },
      "source": [
        "nums = [0, 1, 2, 3, 4]\n",
        "even_squares = [x ** 2 for x in nums if x % 2 == 0]\n",
        "print(even_squares)  # Prints \"[0, 4, 16]\""
      ],
      "execution_count": 16,
      "outputs": [
        {
          "output_type": "stream",
          "name": "stdout",
          "text": [
            "[0, 4, 16]\n"
          ]
        }
      ]
    },
    {
      "cell_type": "markdown",
      "metadata": {
        "id": "VWaFen4HWKRg"
      },
      "source": [
        "#### Dictionaries"
      ]
    },
    {
      "cell_type": "markdown",
      "metadata": {
        "id": "-4qbEpSYWKRi"
      },
      "source": [
        "A dictionary stores (key, value) pairs, similar to a `Map` in Java or an object in Javascript. You can use it like this:"
      ]
    },
    {
      "cell_type": "code",
      "metadata": {
        "id": "kUuSdyIdWKRi",
        "colab": {
          "base_uri": "https://localhost:8080/"
        },
        "outputId": "7096923c-b9f7-45b0-af48-284188887c35"
      },
      "source": [
        "d = {'cat': 'cute', 'dog': 'furry'}  # Create a new dictionary with some data\n",
        "print(d['cat'])       # Get an entry from a dictionary; prints \"cute\"\n",
        "print('cat' in d)     # Check if a dictionary has a given key; prints \"True\"\n",
        "d['fish'] = 'wet'     # Set an entry in a dictionary\n",
        "print(d['fish'])      # Prints \"wet\"\n",
        "# print(d['monkey'])  # KeyError: 'monkey' not a key of d\n",
        "print(d.get('monkey', 'N/A'))  # Get an element with a default; prints \"N/A\"\n",
        "print(d.get('fish', 'N/A'))    # Get an element with a default; prints \"wet\"\n",
        "del d['fish']         # Remove an element from a dictionary\n",
        "print(d.get('fish', 'N/A')) # \"fish\" is no longer a key; prints \"N/A\""
      ],
      "execution_count": 17,
      "outputs": [
        {
          "output_type": "stream",
          "name": "stdout",
          "text": [
            "cute\n",
            "True\n",
            "wet\n",
            "N/A\n",
            "wet\n",
            "N/A\n"
          ]
        }
      ]
    },
    {
      "cell_type": "markdown",
      "metadata": {
        "id": "M2ciTBx-WKRj"
      },
      "source": [
        "You can find all you need to know about dictionaries in the [documentation](https://docs.python.org/3.7/library/stdtypes.html#dict)."
      ]
    },
    {
      "cell_type": "markdown",
      "metadata": {
        "id": "KHhTnHmHWKRk"
      },
      "source": [
        "##### Loops\n",
        "\n",
        "It is easy to iterate over the keys in a dictionary:"
      ]
    },
    {
      "cell_type": "code",
      "metadata": {
        "id": "B9h_gkKcWKRl",
        "colab": {
          "base_uri": "https://localhost:8080/"
        },
        "outputId": "4d50f727-9011-4e19-a1f7-9a30dc3ac4a4"
      },
      "source": [
        "d = {'person': 2, 'cat': 4, 'spider': 8}\n",
        "for animal in d:\n",
        "    legs = d[animal]\n",
        "    print('A %s has %d legs' % (animal, legs))\n",
        "# Prints \"A person has 2 legs\", \"A cat has 4 legs\", \"A spider has 8 legs\""
      ],
      "execution_count": 18,
      "outputs": [
        {
          "output_type": "stream",
          "name": "stdout",
          "text": [
            "A person has 2 legs\n",
            "A cat has 4 legs\n",
            "A spider has 8 legs\n"
          ]
        }
      ]
    },
    {
      "cell_type": "markdown",
      "metadata": {
        "id": "IZqW7Y2uWKRl"
      },
      "source": [
        "If you want access to keys and their corresponding values, use the `items` method:"
      ]
    },
    {
      "cell_type": "code",
      "metadata": {
        "id": "Ik7NhDsAWKRm",
        "colab": {
          "base_uri": "https://localhost:8080/"
        },
        "outputId": "0d582b27-8757-468d-cbde-0a028c64c43c"
      },
      "source": [
        "d = {'person': 2, 'cat': 4, 'spider': 8}\n",
        "for animal, legs in d.items():\n",
        "    print('A %s has %d legs' % (animal, legs))\n",
        "# Prints \"A person has 2 legs\", \"A cat has 4 legs\", \"A spider has 8 legs\""
      ],
      "execution_count": 19,
      "outputs": [
        {
          "output_type": "stream",
          "name": "stdout",
          "text": [
            "A person has 2 legs\n",
            "A cat has 4 legs\n",
            "A spider has 8 legs\n"
          ]
        }
      ]
    },
    {
      "cell_type": "markdown",
      "metadata": {
        "id": "kLBhlWmvWKRn"
      },
      "source": [
        "##### Dictionary comprehensions\n",
        "\n",
        "These are similar to list comprehensions, but allow you to easily construct dictionaries. For example:"
      ]
    },
    {
      "cell_type": "code",
      "metadata": {
        "id": "rtQAkqFZWKRn",
        "colab": {
          "base_uri": "https://localhost:8080/"
        },
        "outputId": "be9d7e4d-b04a-48ef-f006-d70397147f27"
      },
      "source": [
        "nums = [0, 1, 2, 3, 4]\n",
        "even_num_to_square = {x: x ** 2 for x in nums if x % 2 == 0}\n",
        "print(even_num_to_square)  # Prints \"{0: 0, 2: 4, 4: 16}\""
      ],
      "execution_count": 20,
      "outputs": [
        {
          "output_type": "stream",
          "name": "stdout",
          "text": [
            "{0: 0, 2: 4, 4: 16}\n"
          ]
        }
      ]
    },
    {
      "cell_type": "markdown",
      "metadata": {
        "id": "NkKG4tu3WKRo"
      },
      "source": [
        "#### Sets"
      ]
    },
    {
      "cell_type": "markdown",
      "metadata": {
        "id": "x4N6a4pZWKRo"
      },
      "source": [
        "A set is an unordered collection of distinct elements. As a simple example, consider the following:"
      ]
    },
    {
      "cell_type": "code",
      "metadata": {
        "id": "4TPSu65sWKRo",
        "colab": {
          "base_uri": "https://localhost:8080/"
        },
        "outputId": "6145ec5d-7447-471c-abd7-84e2ee33c586"
      },
      "source": [
        "animals = {'cat', 'dog'}\n",
        "print('cat' in animals)   # Check if an element is in a set; prints \"True\"\n",
        "print('fish' in animals)  # prints \"False\"\n",
        "animals.add('fish')       # Add an element to a set\n",
        "print('fish' in animals)  # Prints \"True\"\n",
        "print(len(animals))       # Number of elements in a set; prints \"3\"\n",
        "animals.add('cat')        # Adding an element that is already in the set does nothing\n",
        "print(len(animals))       # Prints \"3\"\n",
        "animals.remove('cat')     # Remove an element from a set\n",
        "print(len(animals))       # Prints \"2\""
      ],
      "execution_count": 21,
      "outputs": [
        {
          "output_type": "stream",
          "name": "stdout",
          "text": [
            "True\n",
            "False\n",
            "True\n",
            "3\n",
            "3\n",
            "2\n"
          ]
        }
      ]
    },
    {
      "cell_type": "markdown",
      "metadata": {
        "id": "qzKB4Vu0WKRp"
      },
      "source": [
        "As usual, everything you want to know about sets can be found in the [documentation](https://docs.python.org/3.7/library/stdtypes.html#set)."
      ]
    },
    {
      "cell_type": "markdown",
      "metadata": {
        "id": "XujICTuEWKRq"
      },
      "source": [
        "##### Loops\n",
        "\n",
        "Iterating over a set has the same syntax as iterating over a list; however since sets are unordered, you cannot make assumptions about the order in which you visit the elements of the set:"
      ]
    },
    {
      "cell_type": "code",
      "metadata": {
        "id": "QU7E9nAvWKRq",
        "colab": {
          "base_uri": "https://localhost:8080/"
        },
        "outputId": "1fa4b47e-e0b6-499a-a540-3b91dd770324"
      },
      "source": [
        "animals = {'cat', 'dog', 'fish'}\n",
        "for idx, animal in enumerate(animals):\n",
        "    print('#%d: %s' % (idx + 1, animal))\n",
        "# Prints \"#1: fish\", \"#2: cat\", \"#3: dog\""
      ],
      "execution_count": 24,
      "outputs": [
        {
          "output_type": "stream",
          "name": "stdout",
          "text": [
            "#1: cat\n",
            "#2: fish\n",
            "#3: dog\n"
          ]
        }
      ]
    },
    {
      "cell_type": "markdown",
      "metadata": {
        "id": "jFCXy8BdWKRr"
      },
      "source": [
        "##### Set comprehensions\n",
        "\n",
        "Like lists and dictionaries, we can easily construct sets using set comprehensions:"
      ]
    },
    {
      "cell_type": "code",
      "metadata": {
        "id": "01I1CuKvWKRr",
        "colab": {
          "base_uri": "https://localhost:8080/"
        },
        "outputId": "9f48d195-d618-43b8-ac4a-cb67ef114ce7"
      },
      "source": [
        "from math import sqrt\n",
        "nums = {int(sqrt(x)) for x in range(30)}\n",
        "print(nums)  # Prints \"{0, 1, 2, 3, 4, 5}\""
      ],
      "execution_count": 25,
      "outputs": [
        {
          "output_type": "stream",
          "name": "stdout",
          "text": [
            "{0, 1, 2, 3, 4, 5}\n"
          ]
        }
      ]
    },
    {
      "cell_type": "markdown",
      "metadata": {
        "id": "vY_VPNSrWKRs"
      },
      "source": [
        "#### Tuples"
      ]
    },
    {
      "cell_type": "markdown",
      "metadata": {
        "id": "fGZC4a0tWKRt"
      },
      "source": [
        "A tuple is an (immutable) ordered list of values. A tuple is in many ways similar to a list; one of the most important differences is that tuples can be used as keys in dictionaries and as elements of sets, while lists cannot. Here is a trivial example:"
      ]
    },
    {
      "cell_type": "code",
      "metadata": {
        "id": "iJe5C--VWKRt",
        "colab": {
          "base_uri": "https://localhost:8080/"
        },
        "outputId": "af535a69-244a-463b-8081-3afc57848fb5"
      },
      "source": [
        "d = {(x, x): x for x in range(10)}  # Create a dictionary with tuple keys\n",
        "t = (5, 5)        # Create a tuple\n",
        "print(d)\n",
        "print(type(t))    # Prints \"<class 'tuple'>\"\n",
        "print(d[t])       # Prints \"5\"\n",
        "print(d[(1, 1)])  # Prints \"1\""
      ],
      "execution_count": 4,
      "outputs": [
        {
          "output_type": "stream",
          "name": "stdout",
          "text": [
            "{(0, 0): 0, (1, 1): 1, (2, 2): 2, (3, 3): 3, (4, 4): 4, (5, 5): 5, (6, 6): 6, (7, 7): 7, (8, 8): 8, (9, 9): 9}\n",
            "<class 'tuple'>\n",
            "5\n",
            "1\n"
          ]
        }
      ]
    },
    {
      "cell_type": "markdown",
      "metadata": {
        "id": "HLjBlI0IWKRt"
      },
      "source": [
        "The [documentation](https://docs.python.org/3.7/tutorial/datastructures.html#tuples-and-sequences) has more information about tuples."
      ]
    },
    {
      "cell_type": "markdown",
      "metadata": {
        "id": "uBOJVmqMWKRt"
      },
      "source": [
        "### Functions"
      ]
    },
    {
      "cell_type": "markdown",
      "metadata": {
        "id": "Jei3ft82WKRu"
      },
      "source": [
        "Python functions are defined using the `def` keyword. For example:"
      ]
    },
    {
      "cell_type": "code",
      "metadata": {
        "id": "4C-aNT7iWKRu",
        "colab": {
          "base_uri": "https://localhost:8080/"
        },
        "outputId": "b1a76227-9409-48db-fecc-ac55614f352d"
      },
      "source": [
        "def sign(x):\n",
        "    if x > 0:\n",
        "        return 'positive'\n",
        "    elif x < 0:\n",
        "        return 'negative'\n",
        "    else:\n",
        "        return 'zero'\n",
        "\n",
        "for x in [-1, 0, 1]:\n",
        "    print(sign(x))\n",
        "# Prints \"negative\", \"zero\", \"positive\""
      ],
      "execution_count": 5,
      "outputs": [
        {
          "output_type": "stream",
          "name": "stdout",
          "text": [
            "negative\n",
            "zero\n",
            "positive\n"
          ]
        }
      ]
    },
    {
      "cell_type": "markdown",
      "metadata": {
        "id": "cFAuVS7kWKRw"
      },
      "source": [
        "We will often define functions to take optional keyword arguments, like this:"
      ]
    },
    {
      "cell_type": "code",
      "metadata": {
        "id": "t-648u1gWKRx",
        "colab": {
          "base_uri": "https://localhost:8080/"
        },
        "outputId": "69141224-2a92-4d27-8e99-34419009c9b5"
      },
      "source": [
        "def hello(name, loud=False):\n",
        "    if loud:\n",
        "        print('HELLO, %s!' % name.upper())\n",
        "    else:\n",
        "        print('Hello, %s' % name)\n",
        "\n",
        "hello('Bob') # Prints \"Hello, Bob\"\n",
        "hello('Fred', loud=True)  # Prints \"HELLO, FRED!\""
      ],
      "execution_count": 6,
      "outputs": [
        {
          "output_type": "stream",
          "name": "stdout",
          "text": [
            "Hello, Bob\n",
            "HELLO, FRED!\n"
          ]
        }
      ]
    },
    {
      "cell_type": "markdown",
      "metadata": {
        "id": "0X6CcKdsWKRz"
      },
      "source": [
        "There is a lot more information about Python functions in the [documentation](https://docs.python.org/3.7/tutorial/controlflow.html#defining-functions)."
      ]
    },
    {
      "cell_type": "markdown",
      "metadata": {
        "id": "UAoEJA8V-0xM"
      },
      "source": [
        "#### Lambda Functions\n",
        "These are anonymous functions in Python which take any number of arguments but only one expression. Syntax:\n",
        "`lambda arguments : expression`. They are one line function and expression are representing the body of a normal function."
      ]
    },
    {
      "cell_type": "code",
      "metadata": {
        "id": "49LbTQdQAs0V",
        "colab": {
          "base_uri": "https://localhost:8080/"
        },
        "outputId": "daf3b2ea-06ff-400d-93f1-2b09239e5e1f"
      },
      "source": [
        "l = lambda a : a+5  ## lambda function 'l' is created which is taking 'a' as an argument and expression adds 5 to the value of argument a\n",
        "print(l(2))  ## passing 2 as value of 'a' argument of lambda function 'l' . This will return 7(7 = 2+5) as output.\n",
        "\n",
        "l1 = lambda a,b,c : a * b * c ## lambda function 'l1' is created which is taking 3 arguments (a,b,c) and return the result by multiplying them all.\n",
        "print(l1(10,20,30))  ## passing 10,20,30 as arguments 'a', 'b', 'c' respectively to 'l1' function. Print result 6000 (6000 = 10*20*30)"
      ],
      "execution_count": 7,
      "outputs": [
        {
          "output_type": "stream",
          "name": "stdout",
          "text": [
            "7\n",
            "6000\n"
          ]
        }
      ]
    },
    {
      "cell_type": "markdown",
      "metadata": {
        "id": "ZMq_za7-Cwvm"
      },
      "source": [
        "We can use Lambda function anonymously inside other functions. Example is shown below"
      ]
    },
    {
      "cell_type": "code",
      "metadata": {
        "id": "KJivSg5lDAHo",
        "colab": {
          "base_uri": "https://localhost:8080/"
        },
        "outputId": "508baeb1-67da-42e6-97b0-90b1209624a8"
      },
      "source": [
        "def func(n):  ## define a function that takes argument 'n' and returns a lambda function after multiplying some unknown argument 'a' with given 'n'\n",
        "  return lambda a: a*n\n",
        "\n",
        "l2 = func(4)  ## passing 4 as value of 'n' in 'func' function. This will return lambda function 'l2' where n is assigned a value of 4.\n",
        "print(l2(6)) ## This will call lambda function 'l2' where 6 is given as value for argument 'a'. Print 24(24 = 6*4) as result"
      ],
      "execution_count": 8,
      "outputs": [
        {
          "output_type": "stream",
          "name": "stdout",
          "text": [
            "24\n"
          ]
        }
      ]
    },
    {
      "cell_type": "markdown",
      "metadata": {
        "id": "xQNGLLXKWKRz"
      },
      "source": [
        "### Classes"
      ]
    },
    {
      "cell_type": "markdown",
      "metadata": {
        "id": "6SGqEAprWKR0"
      },
      "source": [
        "The syntax for defining classes in Python is straightforward:"
      ]
    },
    {
      "cell_type": "code",
      "metadata": {
        "id": "qIBGkxIhWKR1",
        "colab": {
          "base_uri": "https://localhost:8080/"
        },
        "outputId": "4ac27b6c-1c81-4608-d742-52bc67607108"
      },
      "source": [
        "class Greeter(object):\n",
        "\n",
        "    # Constructor\n",
        "    def __init__(self, name):\n",
        "        self.name = name  # Create an instance variable\n",
        "\n",
        "    # Instance method\n",
        "    def greet(self, loud=False):\n",
        "        if loud:\n",
        "            print('HELLO, %s!' % self.name.upper())\n",
        "        else:\n",
        "            print('Hello, %s' % self.name)\n",
        "\n",
        "g = Greeter('Fred')  # Construct an instance of the Greeter class\n",
        "g.greet()            # Call an instance method; prints \"Hello, Fred\"\n",
        "g.greet(loud=True)   # Call an instance method; prints \"HELLO, FRED!\""
      ],
      "execution_count": 9,
      "outputs": [
        {
          "output_type": "stream",
          "name": "stdout",
          "text": [
            "Hello, Fred\n",
            "HELLO, FRED!\n"
          ]
        }
      ]
    },
    {
      "cell_type": "markdown",
      "metadata": {
        "id": "wjqA7mYRWKR1"
      },
      "source": [
        "You can read a lot more about Python classes in the [documentation](https://docs.python.org/3.7/tutorial/classes.html)."
      ]
    },
    {
      "cell_type": "markdown",
      "metadata": {
        "id": "42h3QLCSWKR3"
      },
      "source": [
        "## Numpy"
      ]
    },
    {
      "cell_type": "markdown",
      "metadata": {
        "id": "zU2WaCbkWKR3"
      },
      "source": [
        "[Numpy](https://numpy.org/) is the core library for scientific computing in Python. It provides a high-performance multidimensional array object, and tools for working with these arrays."
      ]
    },
    {
      "cell_type": "markdown",
      "metadata": {
        "id": "g589xsxOWKR4"
      },
      "source": [
        "To use Numpy, we first need to import the `numpy` package:"
      ]
    },
    {
      "cell_type": "code",
      "metadata": {
        "id": "LTTqN8XzWKR4"
      },
      "source": [
        "import numpy as np"
      ],
      "execution_count": 3,
      "outputs": []
    },
    {
      "cell_type": "markdown",
      "metadata": {
        "id": "n9VDoMTUWKR5"
      },
      "source": [
        "### Arrays"
      ]
    },
    {
      "cell_type": "markdown",
      "metadata": {
        "id": "bobIuV-dWKR6"
      },
      "source": [
        "A numpy array is a grid of values, all of the same type, and is indexed by a tuple of nonnegative integers. The number of dimensions is the rank of the array; the shape of an array is a tuple of integers giving the size of the array along each dimension."
      ]
    },
    {
      "cell_type": "markdown",
      "metadata": {
        "id": "jPWmsGeuWKR6"
      },
      "source": [
        "We can initialize numpy arrays from nested Python lists, and access elements using square brackets:"
      ]
    },
    {
      "cell_type": "code",
      "metadata": {
        "id": "BmJsPbzLWKR7",
        "colab": {
          "base_uri": "https://localhost:8080/"
        },
        "outputId": "8280a005-dfae-4762-de09-235b06da2fe4"
      },
      "source": [
        "a = np.array([1, 2, 3])   # Create a rank 1 array\n",
        "print(type(a))            # Prints \"<class 'numpy.ndarray'>\"\n",
        "print(a.shape)            # Prints \"(3,)\"\n",
        "print(a[0], a[1], a[2])   # Prints \"1 2 3\"\n",
        "a[0] = 5                  # Change an element of the array\n",
        "print(a)                  # Prints \"[5, 2, 3]\"\n",
        "\n",
        "b = np.array([[1,2,3],[4,5,6]])    # Create a rank 2 array\n",
        "print(b.shape)                     # Prints \"(2, 3)\"\n",
        "print(b[0, 0], b[0, 1], b[1, 0])   # Prints \"1 2 4\""
      ],
      "execution_count": 11,
      "outputs": [
        {
          "output_type": "stream",
          "name": "stdout",
          "text": [
            "<class 'numpy.ndarray'>\n",
            "(3,)\n",
            "1 2 3\n",
            "[5 2 3]\n",
            "(2, 3)\n",
            "1 2 4\n"
          ]
        }
      ]
    },
    {
      "cell_type": "markdown",
      "metadata": {
        "id": "j9YOQcsOWKR7"
      },
      "source": [
        "Numpy also provides many functions to create arrays:"
      ]
    },
    {
      "cell_type": "code",
      "metadata": {
        "id": "Oq-lu5hVWKR8",
        "colab": {
          "base_uri": "https://localhost:8080/"
        },
        "outputId": "81156688-b845-4159-be01-2f0fd04dec82"
      },
      "source": [
        "a = np.zeros((2,2))   # Create an array of all zeros\n",
        "print(a)              # Prints \"[[ 0.  0.]\n",
        "                      #          [ 0.  0.]]\"\n",
        "\n",
        "b = np.ones((1,2))    # Create an array of all ones\n",
        "print(b)              # Prints \"[[ 1.  1.]]\"\n",
        "\n",
        "c = np.full((2,2), 7)  # Create a constant array\n",
        "print(c)               # Prints \"[[ 7.  7.]\n",
        "                       #          [ 7.  7.]]\"\n",
        "\n",
        "d = np.eye(2)         # Create a 2x2 identity matrix\n",
        "print(d)              # Prints \"[[ 1.  0.]\n",
        "                      #          [ 0.  1.]]\"\n",
        "\n",
        "e = np.random.random((2,2))  # Create an array filled with random values\n",
        "print(e)                     # Might print \"[[ 0.91940167  0.08143941]\n",
        "                             #               [ 0.68744134  0.87236687]]\""
      ],
      "execution_count": 12,
      "outputs": [
        {
          "output_type": "stream",
          "name": "stdout",
          "text": [
            "[[0. 0.]\n",
            " [0. 0.]]\n",
            "[[1. 1.]]\n",
            "[[7 7]\n",
            " [7 7]]\n",
            "[[1. 0.]\n",
            " [0. 1.]]\n",
            "[[0.38183383 0.65553894]\n",
            " [0.84446102 0.10948131]]\n"
          ]
        }
      ]
    },
    {
      "cell_type": "markdown",
      "metadata": {
        "id": "7QNOLklPWKR9"
      },
      "source": [
        "You can read about other methods of array creation in the [documentation](https://docs.scipy.org/doc/numpy/user/basics.creation.html#arrays-creation)."
      ]
    },
    {
      "cell_type": "markdown",
      "metadata": {
        "id": "U6fnf7AVWKR9"
      },
      "source": [
        "### Array indexing"
      ]
    },
    {
      "cell_type": "markdown",
      "metadata": {
        "id": "NegrMjkKWKR-"
      },
      "source": [
        "Numpy offers several ways to index into arrays."
      ]
    },
    {
      "cell_type": "markdown",
      "metadata": {
        "id": "jSIFZAlWWKR-"
      },
      "source": [
        "#### Slicing\n",
        "\n",
        "Similar to Python lists, numpy arrays can be sliced. Since arrays may be multidimensional, you must specify a slice for each dimension of the array:"
      ]
    },
    {
      "cell_type": "code",
      "metadata": {
        "id": "XVNWtWt_WKR_",
        "colab": {
          "base_uri": "https://localhost:8080/"
        },
        "outputId": "c286ab97-bcb5-4b6d-d75f-e2dbe4d4b4e3"
      },
      "source": [
        "# Create the following rank 2 array with shape (3, 4)\n",
        "# [[ 1  2  3  4]\n",
        "#  [ 5  6  7  8]\n",
        "#  [ 9 10 11 12]]\n",
        "a = np.array([[1,2,3,4], [5,6,7,8], [9,10,11,12]])\n",
        "\n",
        "# Use slicing to pull out the subarray consisting of the first 2 rows\n",
        "# and columns 1 and 2; b is the following array of shape (2, 2):\n",
        "# [[2 3]\n",
        "#  [6 7]]\n",
        "b = a[:2, 1:3]\n",
        "print(b)\n",
        "\n",
        "# A slice of an array is a view into the same data, so modifying it\n",
        "# will modify the original array.\n",
        "print(a[0, 1])   # Prints \"2\"\n",
        "b[0, 0] = 77     # b[0, 0] is the same piece of data as a[0, 1]\n",
        "print(a[0, 1])   # Prints \"77\""
      ],
      "execution_count": 14,
      "outputs": [
        {
          "output_type": "stream",
          "name": "stdout",
          "text": [
            "[[2 3]\n",
            " [6 7]]\n",
            "2\n",
            "77\n"
          ]
        }
      ]
    },
    {
      "cell_type": "markdown",
      "metadata": {
        "id": "1F5mB7crWKR_"
      },
      "source": [
        "You can also mix integer indexing with slice indexing. However, doing so will yield an array of lower rank than the original array:"
      ]
    },
    {
      "cell_type": "code",
      "metadata": {
        "id": "xWFd9PbyWKSA",
        "colab": {
          "base_uri": "https://localhost:8080/"
        },
        "outputId": "2087aaf8-fe47-42fb-a578-d5a68880be1d"
      },
      "source": [
        "# Create the following rank 2 array with shape (3, 4)\n",
        "# [[ 1  2  3  4]\n",
        "#  [ 5  6  7  8]\n",
        "#  [ 9 10 11 12]]\n",
        "a = np.array([[1,2,3,4], [5,6,7,8], [9,10,11,12]])\n",
        "\n",
        "# Two ways of accessing the data in the middle row of the array.\n",
        "# Mixing integer indexing with slices yields an array of lower rank,\n",
        "# while using only slices yields an array of the same rank as the\n",
        "# original array:\n",
        "row_r1 = a[1, :]    # Rank 1 view of the second row of a\n",
        "row_r2 = a[1:2, :]  # Rank 2 view of the second row of a\n",
        "print(row_r1, row_r1.shape)  # Prints \"[5 6 7 8] (4,)\"\n",
        "print(row_r2, row_r2.shape)  # Prints \"[[5 6 7 8]] (1, 4)\"\n",
        "\n",
        "# We can make the same distinction when accessing columns of an array:\n",
        "col_r1 = a[:, 1]\n",
        "col_r2 = a[:, 1:2]\n",
        "print(col_r1, col_r1.shape)  # Prints \"[ 2  6 10] (3,)\"\n",
        "print(col_r2, col_r2.shape)  # Prints \"[[ 2]\n",
        "                             #          [ 6]\n",
        "                             #          [10]] (3, 1)\""
      ],
      "execution_count": 15,
      "outputs": [
        {
          "output_type": "stream",
          "name": "stdout",
          "text": [
            "[5 6 7 8] (4,)\n",
            "[[5 6 7 8]] (1, 4)\n",
            "[ 2  6 10] (3,)\n",
            "[[ 2]\n",
            " [ 6]\n",
            " [10]] (3, 1)\n"
          ]
        }
      ]
    },
    {
      "cell_type": "markdown",
      "metadata": {
        "id": "BWJe42ZzWKSA"
      },
      "source": [
        "#### Integer array indexing\n",
        "\n",
        "When you index into numpy arrays using slicing, the resulting array view will always be a subarray of the original array. In contrast, integer array indexing allows you to construct arbitrary arrays using the data from another array. Here is an example:"
      ]
    },
    {
      "cell_type": "code",
      "metadata": {
        "id": "8bME80H_WKSB",
        "colab": {
          "base_uri": "https://localhost:8080/"
        },
        "outputId": "f028de6f-1b78-46e4-a774-5100de2d9580"
      },
      "source": [
        "a = np.array([[1,2], [3, 4], [5, 6]])\n",
        "\n",
        "# An example of integer array indexing.\n",
        "# The returned array will have shape (3,) and\n",
        "print(a[[0, 1, 2], [0, 1, 0]])  # Prints \"[1 4 5]\"\n",
        "\n",
        "# The above example of integer array indexing is equivalent to this:\n",
        "print(np.array([a[0, 0], a[1, 1], a[2, 0]]))  # Prints \"[1 4 5]\"\n",
        "\n",
        "# When using integer array indexing, you can reuse the same\n",
        "# element from the source array:\n",
        "print(a[[0, 0], [1, 1]])  # Prints \"[2 2]\"\n",
        "\n",
        "# Equivalent to the previous integer array indexing example\n",
        "print(np.array([a[0, 1], a[0, 1]]))  # Prints \"[2 2]\""
      ],
      "execution_count": 16,
      "outputs": [
        {
          "output_type": "stream",
          "name": "stdout",
          "text": [
            "[1 4 5]\n",
            "[1 4 5]\n",
            "[2 2]\n",
            "[2 2]\n"
          ]
        }
      ]
    },
    {
      "cell_type": "markdown",
      "metadata": {
        "id": "Kcjct936WKSE"
      },
      "source": [
        "One useful trick with integer array indexing is selecting or mutating one element from each row of a matrix:"
      ]
    },
    {
      "cell_type": "code",
      "metadata": {
        "id": "P5UW9D2tWKSF",
        "colab": {
          "base_uri": "https://localhost:8080/"
        },
        "outputId": "f0aae06d-9484-4e98-c220-58094c0c96b7"
      },
      "source": [
        "# Create a new array from which we will select elements\n",
        "a = np.array([[1,2,3], [4,5,6], [7,8,9], [10, 11, 12]])\n",
        "\n",
        "print(a)  # prints \"array([[ 1,  2,  3],\n",
        "          #                [ 4,  5,  6],\n",
        "          #                [ 7,  8,  9],\n",
        "          #                [10, 11, 12]])\"\n",
        "\n",
        "# Create an array of indices\n",
        "b = np.array([0, 2, 0, 1])\n",
        "\n",
        "# Select one element from each row of a using the indices in b\n",
        "print(a[np.arange(4), b])  # Prints \"[ 1  6  7 11]\"\n",
        "\n",
        "# Mutate one element from each row of a using the indices in b\n",
        "a[np.arange(4), b] += 10\n",
        "\n",
        "print(a)  # prints \"array([[11,  2,  3],\n",
        "          #                [ 4,  5, 16],\n",
        "          #                [17,  8,  9],\n",
        "          #                [10, 21, 12]])"
      ],
      "execution_count": 4,
      "outputs": [
        {
          "output_type": "stream",
          "name": "stdout",
          "text": [
            "[[ 1  2  3]\n",
            " [ 4  5  6]\n",
            " [ 7  8  9]\n",
            " [10 11 12]]\n",
            "[ 1  6  7 11]\n",
            "[[11  2  3]\n",
            " [ 4  5 16]\n",
            " [17  8  9]\n",
            " [10 21 12]]\n"
          ]
        }
      ]
    },
    {
      "cell_type": "markdown",
      "metadata": {
        "id": "ellIekboWKSH"
      },
      "source": [
        "#### Boolean array indexing\n",
        "\n",
        "Boolean array indexing lets you pick out arbitrary elements of an array. Frequently this type of indexing is used to select the elements of an array that satisfy some condition. Here is an example:"
      ]
    },
    {
      "cell_type": "code",
      "metadata": {
        "id": "BEBKkhaLWKSH",
        "colab": {
          "base_uri": "https://localhost:8080/"
        },
        "outputId": "8b421f7a-a95b-4750-c71a-923f22d7c309"
      },
      "source": [
        "a = np.array([[1,2], [3, 4], [5, 6]])\n",
        "\n",
        "bool_idx = (a > 2)   # Find the elements of a that are bigger than 2;\n",
        "                     # this returns a numpy array of Booleans of the same\n",
        "                     # shape as a, where each slot of bool_idx tells\n",
        "                     # whether that element of a is > 2.\n",
        "\n",
        "print(bool_idx)      # Prints \"[[False False]\n",
        "                     #          [ True  True]\n",
        "                     #          [ True  True]]\"\n",
        "\n",
        "# We use boolean array indexing to construct a rank 1 array\n",
        "# consisting of the elements of a corresponding to the True values\n",
        "# of bool_idx\n",
        "print(a[bool_idx])  # Prints \"[3 4 5 6]\"\n",
        "\n",
        "# We can do all of the above in a single concise statement:\n",
        "print(a[a > 2])     # Prints \"[3 4 5 6]\""
      ],
      "execution_count": 5,
      "outputs": [
        {
          "output_type": "stream",
          "name": "stdout",
          "text": [
            "[[False False]\n",
            " [ True  True]\n",
            " [ True  True]]\n",
            "[3 4 5 6]\n",
            "[3 4 5 6]\n"
          ]
        }
      ]
    },
    {
      "cell_type": "markdown",
      "metadata": {
        "id": "ddW5arpNWKSI"
      },
      "source": [
        "For brevity we have left out a lot of details about numpy array indexing; if you want to know more you should read the [documentation](https://docs.scipy.org/doc/numpy/reference/arrays.indexing.html)."
      ]
    },
    {
      "cell_type": "markdown",
      "metadata": {
        "id": "u2lHw5BsWKSI"
      },
      "source": [
        "### Datatypes"
      ]
    },
    {
      "cell_type": "markdown",
      "metadata": {
        "id": "n69riEsDWKSI"
      },
      "source": [
        "Every numpy array is a grid of elements of the same type. Numpy provides a large set of numeric datatypes that you can use to construct arrays. Numpy tries to guess a datatype when you create an array, but functions that construct arrays usually also include an optional argument to explicitly specify the datatype. Here is an example:"
      ]
    },
    {
      "cell_type": "code",
      "metadata": {
        "id": "j056PH3yWKSJ",
        "colab": {
          "base_uri": "https://localhost:8080/"
        },
        "outputId": "55eabda1-db87-468f-a695-4e6f5ad3fe68"
      },
      "source": [
        "x = np.array([1, 2])   # Let numpy choose the datatype\n",
        "print(x.dtype)         # Prints \"int64\"\n",
        "\n",
        "x = np.array([1.0, 2.0])   # Let numpy choose the datatype\n",
        "print(x.dtype)             # Prints \"float64\"\n",
        "\n",
        "x = np.array([1, 2], dtype=np.int64)   # Force a particular datatype\n",
        "print(x.dtype)                         # Prints \"int64\""
      ],
      "execution_count": 6,
      "outputs": [
        {
          "output_type": "stream",
          "name": "stdout",
          "text": [
            "int64\n",
            "float64\n",
            "int64\n"
          ]
        }
      ]
    },
    {
      "cell_type": "markdown",
      "metadata": {
        "id": "V_Oie3GTWKSJ"
      },
      "source": [
        "You can read all about numpy datatypes in the [documentation](https://docs.scipy.org/doc/numpy/reference/arrays.dtypes.html)."
      ]
    },
    {
      "cell_type": "markdown",
      "metadata": {
        "id": "W6O03EaaWKSJ"
      },
      "source": [
        "### Array math"
      ]
    },
    {
      "cell_type": "markdown",
      "metadata": {
        "id": "_oImgJjgWKSK"
      },
      "source": [
        "Basic mathematical functions operate elementwise on arrays, and are available both as operator overloads and as functions in the numpy module:"
      ]
    },
    {
      "cell_type": "code",
      "metadata": {
        "id": "eXMzKEmiWKSK",
        "colab": {
          "base_uri": "https://localhost:8080/"
        },
        "outputId": "3ab8d23c-9c46-4958-c3ca-0286fbc2d4a1"
      },
      "source": [
        "x = np.array([[1,2],[3,4]], dtype=np.float64)\n",
        "y = np.array([[5,6],[7,8]], dtype=np.float64)\n",
        "\n",
        "# Elementwise sum; both produce the array\n",
        "# [[ 6.0  8.0]\n",
        "#  [10.0 12.0]]\n",
        "print(x + y)\n",
        "print(np.add(x, y))\n",
        "\n",
        "# Elementwise difference; both produce the array\n",
        "# [[-4.0 -4.0]\n",
        "#  [-4.0 -4.0]]\n",
        "print(x - y)\n",
        "print(np.subtract(x, y))\n",
        "\n",
        "# Elementwise product; both produce the array\n",
        "# [[ 5.0 12.0]\n",
        "#  [21.0 32.0]]\n",
        "print(x * y)\n",
        "print(np.multiply(x, y))\n",
        "\n",
        "# Elementwise division; both produce the array\n",
        "# [[ 0.2         0.33333333]\n",
        "#  [ 0.42857143  0.5       ]]\n",
        "print(x / y)\n",
        "print(np.divide(x, y))\n",
        "\n",
        "# Elementwise square root; produces the array\n",
        "# [[ 1.          1.41421356]\n",
        "#  [ 1.73205081  2.        ]]\n",
        "print(np.sqrt(x))"
      ],
      "execution_count": 7,
      "outputs": [
        {
          "output_type": "stream",
          "name": "stdout",
          "text": [
            "[[ 6.  8.]\n",
            " [10. 12.]]\n",
            "[[ 6.  8.]\n",
            " [10. 12.]]\n",
            "[[-4. -4.]\n",
            " [-4. -4.]]\n",
            "[[-4. -4.]\n",
            " [-4. -4.]]\n",
            "[[ 5. 12.]\n",
            " [21. 32.]]\n",
            "[[ 5. 12.]\n",
            " [21. 32.]]\n",
            "[[0.2        0.33333333]\n",
            " [0.42857143 0.5       ]]\n",
            "[[0.2        0.33333333]\n",
            " [0.42857143 0.5       ]]\n",
            "[[1.         1.41421356]\n",
            " [1.73205081 2.        ]]\n"
          ]
        }
      ]
    },
    {
      "cell_type": "markdown",
      "metadata": {
        "id": "xDSCM-UoWKSL"
      },
      "source": [
        "We use the dot function to compute inner products of vectors, to multiply a vector by a matrix, and to multiply matrices. dot is available both as a function in the numpy module and as an instance method of array objects:"
      ]
    },
    {
      "cell_type": "code",
      "metadata": {
        "id": "v4NoMOoiWKSM",
        "colab": {
          "base_uri": "https://localhost:8080/"
        },
        "outputId": "7c195812-500a-4d87-cd86-4de78dfc2478"
      },
      "source": [
        "x = np.array([[1,2],[3,4]])\n",
        "y = np.array([[5,6],[7,8]])\n",
        "\n",
        "v = np.array([9,10])\n",
        "w = np.array([11, 12])\n",
        "\n",
        "# Inner product of vectors; both produce 219\n",
        "print(v.dot(w))\n",
        "print(np.dot(v, w))\n",
        "\n",
        "# Matrix / vector product; both produce the rank 1 array [29 67]\n",
        "print(x.dot(v))\n",
        "print(np.dot(x, v))\n",
        "\n",
        "# Matrix / matrix product; both produce the rank 2 array\n",
        "# [[19 22]\n",
        "#  [43 50]]\n",
        "print(x.dot(y))\n",
        "print(np.dot(x, y))"
      ],
      "execution_count": 8,
      "outputs": [
        {
          "output_type": "stream",
          "name": "stdout",
          "text": [
            "219\n",
            "219\n",
            "[29 67]\n",
            "[29 67]\n",
            "[[19 22]\n",
            " [43 50]]\n",
            "[[19 22]\n",
            " [43 50]]\n"
          ]
        }
      ]
    },
    {
      "cell_type": "markdown",
      "metadata": {
        "id": "1D70_KurWKSM"
      },
      "source": [
        "Numpy provides many useful functions for performing computations on arrays; one of the most useful is `sum`:"
      ]
    },
    {
      "cell_type": "code",
      "metadata": {
        "id": "rV2-npEjWKSM",
        "colab": {
          "base_uri": "https://localhost:8080/"
        },
        "outputId": "30d7fd8a-3858-411b-93d4-c7a3d8679fcb"
      },
      "source": [
        "x = np.array([[1,2],[3,4]])\n",
        "\n",
        "print(np.sum(x))  # Compute sum of all elements; prints \"10\"\n",
        "print(np.sum(x, axis=0))  # Compute sum of each column; prints \"[4 6]\"\n",
        "print(np.sum(x, axis=1))  # Compute sum of each row; prints \"[3 7]\""
      ],
      "execution_count": 9,
      "outputs": [
        {
          "output_type": "stream",
          "name": "stdout",
          "text": [
            "10\n",
            "[4 6]\n",
            "[3 7]\n"
          ]
        }
      ]
    },
    {
      "cell_type": "markdown",
      "metadata": {
        "id": "S6CC77cnWKSN"
      },
      "source": [
        "You can find the full list of mathematical functions provided by numpy in the [documentation](https://docs.scipy.org/doc/numpy/reference/routines.math.html).\n",
        "\n",
        "Apart from computing mathematical functions using arrays, we frequently need to reshape or otherwise manipulate data in arrays. The simplest example of this type of operation is transposing a matrix; to transpose a matrix, simply use the T attribute of an array object:"
      ]
    },
    {
      "cell_type": "code",
      "metadata": {
        "id": "zDab1bssWKSN",
        "colab": {
          "base_uri": "https://localhost:8080/"
        },
        "outputId": "3b1059f8-c606-4bc7-fd50-94f77aea5101"
      },
      "source": [
        "x = np.array([[1,2], [3,4]])\n",
        "print(x)    # Prints \"[[1 2]\n",
        "            #          [3 4]]\"\n",
        "print(x.T)  # Prints \"[[1 3]\n",
        "            #          [2 4]]\"\n",
        "\n",
        "# Note that taking the transpose of a rank 1 array does nothing:\n",
        "v = np.array([1,2,3])\n",
        "print(v)    # Prints \"[1 2 3]\"\n",
        "print(v.T)  # Prints \"[1 2 3]\""
      ],
      "execution_count": 10,
      "outputs": [
        {
          "output_type": "stream",
          "name": "stdout",
          "text": [
            "[[1 2]\n",
            " [3 4]]\n",
            "[[1 3]\n",
            " [2 4]]\n",
            "[1 2 3]\n",
            "[1 2 3]\n"
          ]
        }
      ]
    },
    {
      "cell_type": "markdown",
      "metadata": {
        "id": "7sYNo5d-WKSO"
      },
      "source": [
        "Numpy provides many more functions for manipulating arrays; you can see the full list in the [documentation](https://docs.scipy.org/doc/numpy/reference/routines.array-manipulation.html)."
      ]
    },
    {
      "cell_type": "markdown",
      "metadata": {
        "id": "fuld54y4WKSO"
      },
      "source": [
        "### Broadcasting"
      ]
    },
    {
      "cell_type": "markdown",
      "metadata": {
        "id": "MWTOmS2FWKSP"
      },
      "source": [
        "Broadcasting is a powerful mechanism that allows numpy to work with arrays of different shapes when performing arithmetic operations. Frequently we have a smaller array and a larger array, and we want to use the smaller array multiple times to perform some operation on the larger array.\n",
        "\n",
        "For example, suppose that we want to add a constant vector to each row of a matrix. We could do it like this:"
      ]
    },
    {
      "cell_type": "code",
      "metadata": {
        "id": "FhNRmwXKWKSP"
      },
      "source": [
        "# We will add the vector v to each row of the matrix x,\n",
        "# storing the result in the matrix y\n",
        "x = np.array([[1,2,3], [4,5,6], [7,8,9], [10, 11, 12]])\n",
        "v = np.array([1, 0, 1])\n",
        "y = np.empty_like(x)   # Create an empty matrix with the same shape as x\n",
        "\n",
        "# Add the vector v to each row of the matrix x with an explicit loop\n",
        "for i in range(4):\n",
        "    y[i, :] = x[i, :] + v\n",
        "\n",
        "# Now y is the following\n",
        "# [[ 2  2  4]\n",
        "#  [ 5  5  7]\n",
        "#  [ 8  8 10]\n",
        "#  [11 11 13]]\n",
        "print(y)"
      ],
      "execution_count": null,
      "outputs": []
    },
    {
      "cell_type": "markdown",
      "metadata": {
        "id": "z_Lk23RrWKSQ"
      },
      "source": [
        "This works; however when the matrix `x` is very large, computing an explicit loop in Python could be slow. Note that adding the vector `v` to each row of the matrix `x` is equivalent to forming a matrix `vv` by stacking multiple copies of `v` vertically, then performing elementwise summation of `x` and `vv`. We could implement this approach like this:"
      ]
    },
    {
      "cell_type": "code",
      "metadata": {
        "id": "FLw5y_KoWKSQ",
        "colab": {
          "base_uri": "https://localhost:8080/"
        },
        "outputId": "9155b488-fa9d-4b6d-ca35-adc5cd16769a"
      },
      "source": [
        "# We will add the vector v to each row of the matrix x,\n",
        "# storing the result in the matrix y\n",
        "x = np.array([[1,2,3], [4,5,6], [7,8,9], [10, 11, 12]])\n",
        "v = np.array([1, 0, 1])\n",
        "vv = np.tile(v, (4, 1))   # Stack 4 copies of v on top of each other\n",
        "print(vv)                 # Prints \"[[1 0 1]\n",
        "                          #          [1 0 1]\n",
        "                          #          [1 0 1]\n",
        "                          #          [1 0 1]]\"\n",
        "y = x + vv  # Add x and vv elementwise\n",
        "print(y)  # Prints \"[[ 2  2  4\n",
        "          #          [ 5  5  7]\n",
        "          #          [ 8  8 10]\n",
        "          #          [11 11 13]]\""
      ],
      "execution_count": 11,
      "outputs": [
        {
          "output_type": "stream",
          "name": "stdout",
          "text": [
            "[[1 0 1]\n",
            " [1 0 1]\n",
            " [1 0 1]\n",
            " [1 0 1]]\n",
            "[[ 2  2  4]\n",
            " [ 5  5  7]\n",
            " [ 8  8 10]\n",
            " [11 11 13]]\n"
          ]
        }
      ]
    },
    {
      "cell_type": "markdown",
      "metadata": {
        "id": "4zIopNHsWKSR"
      },
      "source": [
        "Numpy broadcasting allows us to perform this computation without actually creating multiple copies of `v`. Consider this version, using broadcasting:"
      ]
    },
    {
      "cell_type": "code",
      "metadata": {
        "id": "XlD0dy8iWKSR",
        "colab": {
          "base_uri": "https://localhost:8080/"
        },
        "outputId": "696322fc-c7b5-47d7-c47f-19ebc7caabbd"
      },
      "source": [
        "# We will add the vector v to each row of the matrix x,\n",
        "# storing the result in the matrix y\n",
        "x = np.array([[1,2,3], [4,5,6], [7,8,9], [10, 11, 12]])\n",
        "v = np.array([1, 0, 1])\n",
        "y = x + v  # Add v to each row of x using broadcasting\n",
        "print(y)  # Prints \"[[ 2  2  4]\n",
        "          #          [ 5  5  7]\n",
        "          #          [ 8  8 10]\n",
        "          #          [11 11 13]]\""
      ],
      "execution_count": 12,
      "outputs": [
        {
          "output_type": "stream",
          "name": "stdout",
          "text": [
            "[[ 2  2  4]\n",
            " [ 5  5  7]\n",
            " [ 8  8 10]\n",
            " [11 11 13]]\n"
          ]
        }
      ]
    },
    {
      "cell_type": "markdown",
      "metadata": {
        "id": "U9sJAgKBWKSS"
      },
      "source": [
        "The line `y = x + v` works even though `x` has shape `(4, 3)` and `v` has shape `(3,)` due to broadcasting; this line works as if `v` actually had shape `(4, 3)`, where each row was a copy of `v`, and the sum was performed elementwise.\n",
        "\n",
        "Broadcasting two arrays together follows these rules:\n",
        "\n",
        "If the arrays do not have the same rank, prepend the shape of the lower rank array with 1s until both shapes have the same length.\n",
        "The two arrays are said to be compatible in a dimension if they have the same size in the dimension, or if one of the arrays has size 1 in that dimension.\n",
        "The arrays can be broadcast together if they are compatible in all dimensions.\n",
        "After broadcasting, each array behaves as if it had shape equal to the elementwise maximum of shapes of the two input arrays.\n",
        "In any dimension where one array had size 1 and the other array had size greater than 1, the first array behaves as if it were copied along that dimension\n",
        "If this explanation does not make sense, try reading the explanation from the [documentation](https://docs.scipy.org/doc/numpy/user/basics.broadcasting.html) or this [explanation](https://numpy.org/devdocs/user/theory.broadcasting.html).\n",
        "\n",
        "Functions that support broadcasting are known as universal functions. You can find the list of all universal functions in the [documentation](https://docs.scipy.org/doc/numpy/reference/ufuncs.html#available-ufuncs).\n",
        "\n",
        "Here are some applications of broadcasting:"
      ]
    },
    {
      "cell_type": "code",
      "metadata": {
        "id": "61nwixDfWKST",
        "colab": {
          "base_uri": "https://localhost:8080/"
        },
        "outputId": "6e5f0e76-5077-446c-dcb1-807c5f52a7c8"
      },
      "source": [
        "# Compute outer product of vectors\n",
        "v = np.array([1,2,3])  # v has shape (3,)\n",
        "w = np.array([4,5])    # w has shape (2,)\n",
        "# To compute an outer product, we first reshape v to be a column\n",
        "# vector of shape (3, 1); we can then broadcast it against w to yield\n",
        "# an output of shape (3, 2), which is the outer product of v and w:\n",
        "# [[ 4  5]\n",
        "#  [ 8 10]\n",
        "#  [12 15]]\n",
        "print(np.reshape(v, (3, 1)) * w)\n",
        "\n",
        "# Add a vector to each row of a matrix\n",
        "x = np.array([[1,2,3], [4,5,6]])\n",
        "# x has shape (2, 3) and v has shape (3,) so they broadcast to (2, 3),\n",
        "# giving the following matrix:\n",
        "# [[2 4 6]\n",
        "#  [5 7 9]]\n",
        "print(x + v)\n",
        "\n",
        "# Add a vector to each column of a matrix\n",
        "# x has shape (2, 3) and w has shape (2,).\n",
        "# If we transpose x then it has shape (3, 2) and can be broadcast\n",
        "# against w to yield a result of shape (3, 2); transposing this result\n",
        "# yields the final result of shape (2, 3) which is the matrix x with\n",
        "# the vector w added to each column. Gives the following matrix:\n",
        "# [[ 5  6  7]\n",
        "#  [ 9 10 11]]\n",
        "print((x.T + w).T)\n",
        "# Another solution is to reshape w to be a column vector of shape (2, 1);\n",
        "# we can then broadcast it directly against x to produce the same\n",
        "# output.\n",
        "print(x + np.reshape(w, (2, 1)))\n",
        "\n",
        "# Multiply a matrix by a constant:\n",
        "# x has shape (2, 3). Numpy treats scalars as arrays of shape ();\n",
        "# these can be broadcast together to shape (2, 3), producing the\n",
        "# following array:\n",
        "# [[ 2  4  6]\n",
        "#  [ 8 10 12]]\n",
        "print(x * 2)"
      ],
      "execution_count": 13,
      "outputs": [
        {
          "output_type": "stream",
          "name": "stdout",
          "text": [
            "[[ 4  5]\n",
            " [ 8 10]\n",
            " [12 15]]\n",
            "[[2 4 6]\n",
            " [5 7 9]]\n",
            "[[ 5  6  7]\n",
            " [ 9 10 11]]\n",
            "[[ 5  6  7]\n",
            " [ 9 10 11]]\n",
            "[[ 2  4  6]\n",
            " [ 8 10 12]]\n"
          ]
        }
      ]
    },
    {
      "cell_type": "markdown",
      "metadata": {
        "id": "REL7CA21WKSU"
      },
      "source": [
        "Broadcasting typically makes your code more concise and faster, so you should strive to use it where possible."
      ]
    },
    {
      "cell_type": "markdown",
      "metadata": {
        "id": "AeYhJt6_WKSV"
      },
      "source": [
        "This brief overview has touched on many of the important things that you need to know about numpy, but is far from complete. Check out the [numpy reference](https://docs.scipy.org/doc/numpy/reference/) to find out much more about numpy."
      ]
    },
    {
      "cell_type": "markdown",
      "metadata": {
        "id": "r0_WmUyYBhse"
      },
      "source": [
        "## Iterators\n",
        "\n",
        "Iterators are objects that contain countable number of values. Iterators can traverse the different structures like list, dictionaries, tuples, strings and sets etc through their values. The structures on which iterators can iterate on are called **iterable objects**. For example, we will make a list and return iterator from it.The `next()` function on iterator is called to get the next item from iterator."
      ]
    },
    {
      "cell_type": "code",
      "metadata": {
        "id": "Il9UycHDC5zY",
        "colab": {
          "base_uri": "https://localhost:8080/"
        },
        "outputId": "a6878d81-8d0c-4780-a1cb-639b404512bf"
      },
      "source": [
        "mylist = ['blue', 'orange', 'green', 'yellow']  ## create a list 'mylist'\n",
        "itr = iter(mylist)  ## create an iterator of mylist using iter() function\n",
        "print(next(itr))  ## print 1st element of mylist\n",
        "print(next(itr))  ## print 2nd element of mylist\n",
        "print(next(itr))  ## print 3rd element of mylist\n",
        "print(next(itr))  ## print 4rth element of mylist"
      ],
      "execution_count": 14,
      "outputs": [
        {
          "output_type": "stream",
          "name": "stdout",
          "text": [
            "blue\n",
            "orange\n",
            "green\n",
            "yellow\n"
          ]
        }
      ]
    },
    {
      "cell_type": "markdown",
      "metadata": {
        "id": "ZHTOpnsbG1SC"
      },
      "source": [
        "## Zip in Python\n",
        "Zip function returns a zip object which is an iterator of tuples where first tuple represent the first enteries of the two passed tuples paired together, second tuple represents the second entries of passed tuples paired together and so on.\n",
        "Example below shows two tuples `a` and `b` passed as input to `zip` function to zip respective entries together.\n"
      ]
    },
    {
      "cell_type": "code",
      "metadata": {
        "id": "tegAs3CVNEAG",
        "colab": {
          "base_uri": "https://localhost:8080/"
        },
        "outputId": "0408a2b8-cdfc-40e0-dc4e-d33c9ff41338"
      },
      "source": [
        "a = ('2', '3', '4', '5', '6')  ## create tuple 'a'\n",
        "b = ('4', '9', '16', '25', '36')  ## create b tuple 'b'\n",
        "z = zip(a,b) ## zip both tuples\n",
        "print(tuple(z)) ## print zip result. Will print (('2', '4'), ('3', '9'), ('4', '16'), ('5', '25'), ('6', '36'))"
      ],
      "execution_count": 15,
      "outputs": [
        {
          "output_type": "stream",
          "name": "stdout",
          "text": [
            "<zip object at 0x7969e46ff880>\n",
            "(('2', '4'), ('3', '9'), ('4', '16'), ('5', '25'), ('6', '36'))\n"
          ]
        }
      ]
    },
    {
      "cell_type": "markdown",
      "metadata": {
        "id": "YHuVQrcoQtSW"
      },
      "source": [
        "### Zip Lists\n",
        "\n",
        "Zip can also be used to zip entries of two lists together. Example is given below:"
      ]
    },
    {
      "cell_type": "code",
      "metadata": {
        "id": "axC--DuyN6K2",
        "colab": {
          "base_uri": "https://localhost:8080/"
        },
        "outputId": "2409de63-a300-4e0f-c849-458b0c6f224c"
      },
      "source": [
        "a = ['l1', 'l2', 'l3', 'l4', 'l5'] ## create list 'a'\n",
        "b = ['s1', 's2', 's3', 's4', 's5'] ## create tuple 'b'\n",
        "z = zip(a,b) ## zip both lists\n",
        "print(list(z))## print zip result. Will print [('l1', 's1'), ('l2', 's2'), ('l3', 's3'), ('l4', 's4'), ('l5', 's5')]"
      ],
      "execution_count": 16,
      "outputs": [
        {
          "output_type": "stream",
          "name": "stdout",
          "text": [
            "[('l1', 's1'), ('l2', 's2'), ('l3', 's3'), ('l4', 's4'), ('l5', 's5')]\n"
          ]
        }
      ]
    },
    {
      "cell_type": "markdown",
      "metadata": {
        "id": "vQMZ4_3ZNtnO"
      },
      "source": [
        "### Zip Lists to a dictionary\n",
        "We can zip entries of two lists together to form a dictionary. Given an example below use `zip` and `dict` functions. `dict` converts zip iterator to a dictionary."
      ]
    },
    {
      "cell_type": "code",
      "metadata": {
        "id": "6qmO3agSPV_4",
        "colab": {
          "base_uri": "https://localhost:8080/"
        },
        "outputId": "f1a7bf5a-52fd-4fe6-f5a5-cd32fa7a0d4d"
      },
      "source": [
        "stocks = ['Alphabet C', 'VCPlus', 'TCS']  ## create list 'stocks'\n",
        "prices = [3452, 1127, 2750]  ## create list 'prices'\n",
        "dictionary = dict(zip(stocks, prices))   ## zip the two lists and convert zip object to a dictionary using dict()\n",
        "print(dictionary) ## print dictionary {'Alphabet C': 3452, 'VCPlus': 1127, 'TCS': 2750}"
      ],
      "execution_count": 17,
      "outputs": [
        {
          "output_type": "stream",
          "name": "stdout",
          "text": [
            "{'Alphabet C': 3452, 'VCPlus': 1127, 'TCS': 2750}\n"
          ]
        }
      ]
    },
    {
      "cell_type": "markdown",
      "metadata": {
        "id": "jsQjzDRDTgnI"
      },
      "source": [
        "To read more on zip built-in function, refer to [documentation](https://docs.python.org/3/library/functions.html#zip) here."
      ]
    },
    {
      "cell_type": "markdown",
      "metadata": {
        "id": "IoCBqMS9WKSW"
      },
      "source": [
        "## Matplotlib"
      ]
    },
    {
      "cell_type": "markdown",
      "metadata": {
        "id": "6fcef1L8WKSW"
      },
      "source": [
        "[Matplotlib](https://matplotlib.org/) is a plotting library. In this section give a brief introduction to the `matplotlib.pyplot` module, which provides a plotting system similar to that of MATLAB."
      ]
    },
    {
      "cell_type": "code",
      "metadata": {
        "id": "aa1Qp-9cWKSX"
      },
      "source": [
        "import matplotlib.pyplot as plt"
      ],
      "execution_count": 18,
      "outputs": []
    },
    {
      "cell_type": "markdown",
      "metadata": {
        "id": "v9jjd93vWKSX"
      },
      "source": [
        "By running this special iPython command, we will be displaying plots inline:"
      ]
    },
    {
      "cell_type": "code",
      "metadata": {
        "id": "o0Fb-dJSWKSY"
      },
      "source": [
        "%matplotlib inline"
      ],
      "execution_count": 19,
      "outputs": []
    },
    {
      "cell_type": "markdown",
      "metadata": {
        "id": "Y70GeIJgWKSZ"
      },
      "source": [
        "### Plotting"
      ]
    },
    {
      "cell_type": "markdown",
      "metadata": {
        "id": "gjV_pGftWKSZ"
      },
      "source": [
        "The most important function in `matplotlib` is `plot`, which allows you to plot 2D data. Here is a simple example:"
      ]
    },
    {
      "cell_type": "code",
      "metadata": {
        "id": "Yu4-N8n-WKSa",
        "colab": {
          "base_uri": "https://localhost:8080/",
          "height": 430
        },
        "outputId": "661f663c-8e11-4c1f-84c8-bd8416dde637"
      },
      "source": [
        "# Compute the x and y coordinates for points on a sine curve\n",
        "x = np.arange(0, 3 * np.pi, 0.1)\n",
        "y = np.sin(x)\n",
        "\n",
        "# Plot the points using matplotlib\n",
        "plt.plot(x, y)\n",
        "plt.show()  # You must call plt.show() to make graphics appear."
      ],
      "execution_count": 20,
      "outputs": [
        {
          "output_type": "display_data",
          "data": {
            "text/plain": [
              "<Figure size 640x480 with 1 Axes>"
            ],
            "image/png": "[encoded data removed]"
          },
          "metadata": {}
        }
      ]
    },
    {
      "cell_type": "markdown",
      "metadata": {
        "id": "hPg7iOcwWKSa"
      },
      "source": [
        "With just a little bit of extra work we can easily plot multiple lines at once, and add a title, legend, and axis labels:"
      ]
    },
    {
      "cell_type": "code",
      "metadata": {
        "id": "65z3ngzCWKSa",
        "colab": {
          "base_uri": "https://localhost:8080/",
          "height": 295
        },
        "outputId": "ee49eedb-7330-431c-9d37-3f3ce438dc0b"
      },
      "source": [
        "# Compute the x and y coordinates for points on sine and cosine curves\n",
        "x = np.arange(0, 3 * np.pi, 0.1)\n",
        "y_sin = np.sin(x)\n",
        "y_cos = np.cos(x)\n",
        "\n",
        "# Plot the points using matplotlib\n",
        "plt.plot(x, y_sin)\n",
        "plt.plot(x, y_cos)\n",
        "plt.xlabel('x axis label')\n",
        "plt.ylabel('y axis label')\n",
        "plt.title('Sine and Cosine')\n",
        "plt.legend(['Sine', 'Cosine'])\n",
        "plt.show()"
      ],
      "execution_count": null,
      "outputs": [
        {
          "output_type": "display_data",
          "data": {
            "image/png": "[encoded data removed]",
            "text/plain": [
              "<Figure size 432x288 with 1 Axes>"
            ]
          },
          "metadata": {
            "needs_background": "light"
          }
        }
      ]
    },
    {
      "cell_type": "markdown",
      "metadata": {
        "id": "BXdl9cX1WKSb"
      },
      "source": [
        "You can read much more about the `plot` function in the [documentation](https://matplotlib.org/api/pyplot_api.html#matplotlib.pyplot.plot)."
      ]
    },
    {
      "cell_type": "markdown",
      "metadata": {
        "id": "yjv8odw0WKSb"
      },
      "source": [
        "### Subplots"
      ]
    },
    {
      "cell_type": "markdown",
      "metadata": {
        "id": "9t2sZt62WKSc"
      },
      "source": [
        "You can plot different things in the same figure using the subplot function. Here is an example:"
      ]
    },
    {
      "cell_type": "code",
      "metadata": {
        "id": "XuTfX3CcWKSc",
        "colab": {
          "base_uri": "https://localhost:8080/",
          "height": 281
        },
        "outputId": "a17df40b-a68b-44f9-e785-3109ba6607ed"
      },
      "source": [
        "# Compute the x and y coordinates for points on sine and cosine curves\n",
        "x = np.arange(0, 3 * np.pi, 0.1)\n",
        "y_sin = np.sin(x)\n",
        "y_cos = np.cos(x)\n",
        "\n",
        "# Set up a subplot grid that has height 2 and width 1,\n",
        "# and set the first such subplot as active.\n",
        "plt.subplot(2, 1, 1)\n",
        "\n",
        "# Make the first plot\n",
        "plt.plot(x, y_sin)\n",
        "plt.title('Sine')\n",
        "\n",
        "# Set the second subplot as active, and make the second plot.\n",
        "plt.subplot(2, 1, 2)\n",
        "plt.plot(x, y_cos)\n",
        "plt.title('Cosine')\n",
        "\n",
        "# Show the figure.\n",
        "plt.show()"
      ],
      "execution_count": null,
      "outputs": [
        {
          "output_type": "display_data",
          "data": {
            "image/png": "[encoded data removed]",
            "text/plain": [
              "<Figure size 432x288 with 2 Axes>"
            ]
          },
          "metadata": {
            "needs_background": "light"
          }
        }
      ]
    },
    {
      "cell_type": "markdown",
      "metadata": {
        "id": "2WRJ69zXWKSc"
      },
      "source": [
        "You can read much more about the `subplot` function in the [documentation](https://matplotlib.org/api/pyplot_api.html#matplotlib.pyplot.subplot)."
      ]
    },
    {
      "cell_type": "markdown",
      "metadata": {
        "id": "drzsBrKVaYcv"
      },
      "source": [
        "## Regex\n",
        "\n",
        "A regular expression (or RE) specifies a set of strings that matches it; the functions in this module let you check if a particular string matches a given regular expression (or if a given regular expression matches a particular string, which comes down to the same thing). Regex may involve metacharaters/Sequences/Sets that form a search pattern.\n",
        "\n",
        "1. `^` matches the start of the string\n",
        "2. `*` matches zero or more number of repitions of preceding Regular expression.\n",
        "3.  `$` matches the end of string with given sequence.\n",
        "4.  `\\d`\tReturns a match where the string contains digits (numbers from 0-9)\n",
        "5.  `\\s` returns a match where the string contains a white space character\n",
        "6.  `[a-n]` returns a match for any lower case character, alphabetically between a and n.\n",
        "7.  `[0-9]` returns a match for any digit between 0 and 9\n",
        "\n",
        "Complete list of sequences can be found [here](https://docs.python.org/3/library/re.html)\n",
        "\n",
        "To use Regex, we first need to import the package."
      ]
    },
    {
      "cell_type": "code",
      "metadata": {
        "id": "U7nvlhLtcBwX"
      },
      "source": [
        "import re"
      ],
      "execution_count": 22,
      "outputs": []
    },
    {
      "cell_type": "markdown",
      "metadata": {
        "id": "QqyKqSrlcpMY"
      },
      "source": [
        "This package offers variety of different functions which can be used to find patterns in the string."
      ]
    },
    {
      "cell_type": "markdown",
      "metadata": {
        "id": "0-LpOKUheedf"
      },
      "source": [
        "###FindAll()\n",
        "This method is used to print a list of all the matches of given string. If no matches are found then an empty list is returned. Following examples will explain:"
      ]
    },
    {
      "cell_type": "code",
      "metadata": {
        "id": "hjnI4JNIccGV",
        "colab": {
          "base_uri": "https://localhost:8080/"
        },
        "outputId": "6ca52327-2e4c-4850-8204-9f0cc59fdf1c"
      },
      "source": [
        "txt = \"Its been an energetic day today.\"\n",
        "x = re.findall(\"day\", txt) ## find all instances of string 'day' in txt string\n",
        "print(x) ## print all occurences if exist"
      ],
      "execution_count": 23,
      "outputs": [
        {
          "output_type": "stream",
          "name": "stdout",
          "text": [
            "['day', 'day']\n"
          ]
        }
      ]
    },
    {
      "cell_type": "code",
      "metadata": {
        "id": "TgXqKIUof3UX",
        "colab": {
          "base_uri": "https://localhost:8080/"
        },
        "outputId": "a79da660-013f-454b-ec7e-d297a007868f"
      },
      "source": [
        "txt = \"from\"\n",
        "x = \"We are going there tomorrow.\"\n",
        "x = re.findall(\"is\", txt) ## find all instances of string 'is' in txt string\n",
        "print(x) ## print empty string since no such instances exist"
      ],
      "execution_count": 24,
      "outputs": [
        {
          "output_type": "stream",
          "name": "stdout",
          "text": [
            "[]\n"
          ]
        }
      ]
    },
    {
      "cell_type": "markdown",
      "metadata": {
        "id": "VNGPR3MDhis_"
      },
      "source": [
        "### Split()\n",
        "Split function is used to return a list where there the string has been split at each match. In example below, regular expression `\\s` splits the string at each white space character."
      ]
    },
    {
      "cell_type": "code",
      "metadata": {
        "id": "uQnxudvzi16a",
        "colab": {
          "base_uri": "https://localhost:8080/"
        },
        "outputId": "d7b68dac-d2c9-4226-cbe5-da0eafe4f9f5"
      },
      "source": [
        "txt = \"We are going to a park.\"\n",
        "x = re.split(\"\\s\", txt)\n",
        "print(x)\n"
      ],
      "execution_count": 25,
      "outputs": [
        {
          "output_type": "stream",
          "name": "stdout",
          "text": [
            "['We', 'are', 'going', 'to', 'a', 'park.']\n"
          ]
        }
      ]
    },
    {
      "cell_type": "markdown",
      "metadata": {
        "id": "oKX76GaAjHVT"
      },
      "source": [
        "We can control the maximum number of splits by providing `maxsplit` parameter. In example below, only first 2 splits occurences will be found and returned as list."
      ]
    },
    {
      "cell_type": "code",
      "metadata": {
        "id": "mJY_i5e0i2yz",
        "colab": {
          "base_uri": "https://localhost:8080/"
        },
        "outputId": "e29f9534-b777-4a29-a641-b66b14304744"
      },
      "source": [
        "txt = \"We are going to a park.\"\n",
        "x = re.split(\"\\s\", txt, 2)\n",
        "print(x)"
      ],
      "execution_count": 26,
      "outputs": [
        {
          "output_type": "stream",
          "name": "stdout",
          "text": [
            "['We', 'are', 'going to a park.']\n"
          ]
        }
      ]
    },
    {
      "cell_type": "markdown",
      "metadata": {
        "id": "Q2MH7_GpkArR"
      },
      "source": [
        "### Sub()\n",
        "The sub() function replaces the matches with the text of your choice. For example, [0-9] regex will replace digits with given string."
      ]
    },
    {
      "cell_type": "code",
      "metadata": {
        "colab": {
          "base_uri": "https://localhost:8080/"
        },
        "id": "P86p7D0xjWMY",
        "outputId": "37dfed76-582e-4986-c9b1-6fb9d8e3b892"
      },
      "source": [
        "txt = \"Some digits like 100 and 490 are replaced.\"\n",
        "x = re.sub(\"[0-9]\", \"-\", txt)\n",
        "print(x)"
      ],
      "execution_count": 27,
      "outputs": [
        {
          "output_type": "stream",
          "name": "stdout",
          "text": [
            "Some digits like --- and --- are replaced.\n"
          ]
        }
      ]
    },
    {
      "cell_type": "markdown",
      "metadata": {
        "id": "uKpK2z16x47W"
      },
      "source": [
        "### Search()\n",
        "Returns a Match object if there is a match anywhere in the string.\n",
        "Using this method, the regular expression in given example looks for any words that starts with an upper case \"S\":"
      ]
    },
    {
      "cell_type": "code",
      "metadata": {
        "id": "MxuFolNDwtl2",
        "colab": {
          "base_uri": "https://localhost:8080/"
        },
        "outputId": "9da22186-b26c-4a9c-c0bb-4adb4dda4b1b"
      },
      "source": [
        "txt = \"The rain in Spain.\"\n",
        "x = re.search(r\"\\bS\\w+\", txt)\n",
        "print(x) ## prints match object\n",
        "print(x.group()) ## prints a tuple containing all the subgroups of the match,"
      ],
      "execution_count": 28,
      "outputs": [
        {
          "output_type": "stream",
          "name": "stdout",
          "text": [
            "<re.Match object; span=(12, 17), match='Spain'>\n",
            "Spain\n"
          ]
        }
      ]
    },
    {
      "cell_type": "markdown",
      "metadata": {
        "id": "5RsNIii2ynoR"
      },
      "source": [
        "## Reading from the File"
      ]
    },
    {
      "cell_type": "code",
      "metadata": {
        "id": "MIqG127jaILZ",
        "colab": {
          "base_uri": "https://localhost:8080/",
          "height": 224
        },
        "outputId": "a5ce41fd-9ada-4bcd-f57b-454b077b6702"
      },
      "source": [
        "import pandas as pd\n",
        "data = pd.read_csv('https://raw.githubusercontent.com/daniaahmad13/Dataset/main/StudentsPerformance.csv')\n",
        "data.head()\n"
      ],
      "execution_count": 29,
      "outputs": [
        {
          "output_type": "execute_result",
          "data": {
            "text/plain": [
              "   gender race/ethnicity parental level of education         lunch  \\\n",
              "0  female        group B           bachelor's degree      standard   \n",
              "1  female        group C                some college      standard   \n",
              "2  female        group B             master's degree      standard   \n",
              "3    male        group A          associate's degree  free/reduced   \n",
              "4    male        group C                some college      standard   \n",
              "\n",
              "  test preparation course  math score  reading score  writing score  \n",
              "0                    none          72             72             74  \n",
              "1               completed          69             90             88  \n",
              "2                    none          90             95             93  \n",
              "3                    none          47             57             44  \n",
              "4                    none          76             78             75  "
            ],
            "text/html": [
              "\n",
              "  <div id=\"df-ef2c6eed-f6fb-4ca1-9eff-80b893290731\" class=\"colab-df-container\">\n",
              "    <div>\n",
              "<style scoped>\n",
              "    .dataframe tbody tr th:only-of-type {\n",
              "        vertical-align: middle;\n",
              "    }\n",
              "\n",
              "    .dataframe tbody tr th {\n",
              "        vertical-align: top;\n",
              "    }\n",
              "\n",
              "    .dataframe thead th {\n",
              "        text-align: right;\n",
              "    }\n",
              "</style>\n",
              "<table border=\"1\" class=\"dataframe\">\n",
              "  <thead>\n",
              "    <tr style=\"text-align: right;\">\n",
              "      <th></th>\n",
              "      <th>gender</th>\n",
              "      <th>race/ethnicity</th>\n",
              "      <th>parental level of education</th>\n",
              "      <th>lunch</th>\n",
              "      <th>test preparation course</th>\n",
              "      <th>math score</th>\n",
              "      <th>reading score</th>\n",
              "      <th>writing score</th>\n",
              "    </tr>\n",
              "  </thead>\n",
              "  <tbody>\n",
              "    <tr>\n",
              "      <th>0</th>\n",
              "      <td>female</td>\n",
              "      <td>group B</td>\n",
              "      <td>bachelor's degree</td>\n",
              "      <td>standard</td>\n",
              "      <td>none</td>\n",
              "      <td>72</td>\n",
              "      <td>72</td>\n",
              "      <td>74</td>\n",
              "    </tr>\n",
              "    <tr>\n",
              "      <th>1</th>\n",
              "      <td>female</td>\n",
              "      <td>group C</td>\n",
              "      <td>some college</td>\n",
              "      <td>standard</td>\n",
              "      <td>completed</td>\n",
              "      <td>69</td>\n",
              "      <td>90</td>\n",
              "      <td>88</td>\n",
              "    </tr>\n",
              "    <tr>\n",
              "      <th>2</th>\n",
              "      <td>female</td>\n",
              "      <td>group B</td>\n",
              "      <td>master's degree</td>\n",
              "      <td>standard</td>\n",
              "      <td>none</td>\n",
              "      <td>90</td>\n",
              "      <td>95</td>\n",
              "      <td>93</td>\n",
              "    </tr>\n",
              "    <tr>\n",
              "      <th>3</th>\n",
              "      <td>male</td>\n",
              "      <td>group A</td>\n",
              "      <td>associate's degree</td>\n",
              "      <td>free/reduced</td>\n",
              "      <td>none</td>\n",
              "      <td>47</td>\n",
              "      <td>57</td>\n",
              "      <td>44</td>\n",
              "    </tr>\n",
              "    <tr>\n",
              "      <th>4</th>\n",
              "      <td>male</td>\n",
              "      <td>group C</td>\n",
              "      <td>some college</td>\n",
              "      <td>standard</td>\n",
              "      <td>none</td>\n",
              "      <td>76</td>\n",
              "      <td>78</td>\n",
              "      <td>75</td>\n",
              "    </tr>\n",
              "  </tbody>\n",
              "</table>\n",
              "</div>\n",
              "    <div class=\"colab-df-buttons\">\n",
              "\n",
              "  <div class=\"colab-df-container\">\n",
              "    <button class=\"colab-df-convert\" onclick=\"convertToInteractive('df-ef2c6eed-f6fb-4ca1-9eff-80b893290731')\"\n",
              "            title=\"Convert this dataframe to an interactive table.\"\n",
              "            style=\"display:none;\">\n",
              "\n",
              "  <svg xmlns=\"http://www.w3.org/2000/svg\" height=\"24px\" viewBox=\"0 -960 960 960\">\n",
              "    <path d=\"M120-120v-720h720v720H120Zm60-500h600v-160H180v160Zm220 220h160v-160H400v160Zm0 220h160v-160H400v160ZM180-400h160v-160H180v160Zm440 0h160v-160H620v160ZM180-180h160v-160H180v160Zm440 0h160v-160H620v160Z\"/>\n",
              "  </svg>\n",
              "    </button>\n",
              "\n",
              "  <style>\n",
              "    .colab-df-container {\n",
              "      display:flex;\n",
              "      gap: 12px;\n",
              "    }\n",
              "\n",
              "    .colab-df-convert {\n",
              "      background-color: #E8F0FE;\n",
              "      border: none;\n",
              "      border-radius: 50%;\n",
              "      cursor: pointer;\n",
              "      display: none;\n",
              "      fill: #1967D2;\n",
              "      height: 32px;\n",
              "      padding: 0 0 0 0;\n",
              "      width: 32px;\n",
              "    }\n",
              "\n",
              "    .colab-df-convert:hover {\n",
              "      background-color: #E2EBFA;\n",
              "      box-shadow: 0px 1px 2px rgba(60, 64, 67, 0.3), 0px 1px 3px 1px rgba(60, 64, 67, 0.15);\n",
              "      fill: #174EA6;\n",
              "    }\n",
              "\n",
              "    .colab-df-buttons div {\n",
              "      margin-bottom: 4px;\n",
              "    }\n",
              "\n",
              "    [theme=dark] .colab-df-convert {\n",
              "      background-color: #3B4455;\n",
              "      fill: #D2E3FC;\n",
              "    }\n",
              "\n",
              "    [theme=dark] .colab-df-convert:hover {\n",
              "      background-color: #434B5C;\n",
              "      box-shadow: 0px 1px 3px 1px rgba(0, 0, 0, 0.15);\n",
              "      filter: drop-shadow(0px 1px 2px rgba(0, 0, 0, 0.3));\n",
              "      fill: #FFFFFF;\n",
              "    }\n",
              "  </style>\n",
              "\n",
              "    <script>\n",
              "      const buttonEl =\n",
              "        document.querySelector('#df-ef2c6eed-f6fb-4ca1-9eff-80b893290731 button.colab-df-convert');\n",
              "      buttonEl.style.display =\n",
              "        google.colab.kernel.accessAllowed ? 'block' : 'none';\n",
              "\n",
              "      async function convertToInteractive(key) {\n",
              "        const element = document.querySelector('#df-ef2c6eed-f6fb-4ca1-9eff-80b893290731');\n",
              "        const dataTable =\n",
              "          await google.colab.kernel.invokeFunction('convertToInteractive',\n",
              "                                                    [key], {});\n",
              "        if (!dataTable) return;\n",
              "\n",
              "        const docLinkHtml = 'Like what you see? Visit the ' +\n",
              "          '<a target=\"_blank\" href=https://colab.research.google.com/notebooks/data_table.ipynb>data table notebook</a>'\n",
              "          + ' to learn more about interactive tables.';\n",
              "        element.innerHTML = '';\n",
              "        dataTable['output_type'] = 'display_data';\n",
              "        await google.colab.output.renderOutput(dataTable, element);\n",
              "        const docLink = document.createElement('div');\n",
              "        docLink.innerHTML = docLinkHtml;\n",
              "        element.appendChild(docLink);\n",
              "      }\n",
              "    </script>\n",
              "  </div>\n",
              "\n",
              "\n",
              "<div id=\"df-3bef7a5e-2df8-4feb-9dea-dedffb20083c\">\n",
              "  <button class=\"colab-df-quickchart\" onclick=\"quickchart('df-3bef7a5e-2df8-4feb-9dea-dedffb20083c')\"\n",
              "            title=\"Suggest charts\"\n",
              "            style=\"display:none;\">\n",
              "\n",
              "<svg xmlns=\"http://www.w3.org/2000/svg\" height=\"24px\"viewBox=\"0 0 24 24\"\n",
              "     width=\"24px\">\n",
              "    <g>\n",
              "        <path d=\"M19 3H5c-1.1 0-2 .9-2 2v14c0 1.1.9 2 2 2h14c1.1 0 2-.9 2-2V5c0-1.1-.9-2-2-2zM9 17H7v-7h2v7zm4 0h-2V7h2v10zm4 0h-2v-4h2v4z\"/>\n",
              "    </g>\n",
              "</svg>\n",
              "  </button>\n",
              "\n",
              "<style>\n",
              "  .colab-df-quickchart {\n",
              "      --bg-color: #E8F0FE;\n",
              "      --fill-color: #1967D2;\n",
              "      --hover-bg-color: #E2EBFA;\n",
              "      --hover-fill-color: #174EA6;\n",
              "      --disabled-fill-color: #AAA;\n",
              "      --disabled-bg-color: #DDD;\n",
              "  }\n",
              "\n",
              "  [theme=dark] .colab-df-quickchart {\n",
              "      --bg-color: #3B4455;\n",
              "      --fill-color: #D2E3FC;\n",
              "      --hover-bg-color: #434B5C;\n",
              "      --hover-fill-color: #FFFFFF;\n",
              "      --disabled-bg-color: #3B4455;\n",
              "      --disabled-fill-color: #666;\n",
              "  }\n",
              "\n",
              "  .colab-df-quickchart {\n",
              "    background-color: var(--bg-color);\n",
              "    border: none;\n",
              "    border-radius: 50%;\n",
              "    cursor: pointer;\n",
              "    display: none;\n",
              "    fill: var(--fill-color);\n",
              "    height: 32px;\n",
              "    padding: 0;\n",
              "    width: 32px;\n",
              "  }\n",
              "\n",
              "  .colab-df-quickchart:hover {\n",
              "    background-color: var(--hover-bg-color);\n",
              "    box-shadow: 0 1px 2px rgba(60, 64, 67, 0.3), 0 1px 3px 1px rgba(60, 64, 67, 0.15);\n",
              "    fill: var(--button-hover-fill-color);\n",
              "  }\n",
              "\n",
              "  .colab-df-quickchart-complete:disabled,\n",
              "  .colab-df-quickchart-complete:disabled:hover {\n",
              "    background-color: var(--disabled-bg-color);\n",
              "    fill: var(--disabled-fill-color);\n",
              "    box-shadow: none;\n",
              "  }\n",
              "\n",
              "  .colab-df-spinner {\n",
              "    border: 2px solid var(--fill-color);\n",
              "    border-color: transparent;\n",
              "    border-bottom-color: var(--fill-color);\n",
              "    animation:\n",
              "      spin 1s steps(1) infinite;\n",
              "  }\n",
              "\n",
              "  @keyframes spin {\n",
              "    0% {\n",
              "      border-color: transparent;\n",
              "      border-bottom-color: var(--fill-color);\n",
              "      border-left-color: var(--fill-color);\n",
              "    }\n",
              "    20% {\n",
              "      border-color: transparent;\n",
              "      border-left-color: var(--fill-color);\n",
              "      border-top-color: var(--fill-color);\n",
              "    }\n",
              "    30% {\n",
              "      border-color: transparent;\n",
              "      border-left-color: var(--fill-color);\n",
              "      border-top-color: var(--fill-color);\n",
              "      border-right-color: var(--fill-color);\n",
              "    }\n",
              "    40% {\n",
              "      border-color: transparent;\n",
              "      border-right-color: var(--fill-color);\n",
              "      border-top-color: var(--fill-color);\n",
              "    }\n",
              "    60% {\n",
              "      border-color: transparent;\n",
              "      border-right-color: var(--fill-color);\n",
              "    }\n",
              "    80% {\n",
              "      border-color: transparent;\n",
              "      border-right-color: var(--fill-color);\n",
              "      border-bottom-color: var(--fill-color);\n",
              "    }\n",
              "    90% {\n",
              "      border-color: transparent;\n",
              "      border-bottom-color: var(--fill-color);\n",
              "    }\n",
              "  }\n",
              "</style>\n",
              "\n",
              "  <script>\n",
              "    async function quickchart(key) {\n",
              "      const quickchartButtonEl =\n",
              "        document.querySelector('#' + key + ' button');\n",
              "      quickchartButtonEl.disabled = true;  // To prevent multiple clicks.\n",
              "      quickchartButtonEl.classList.add('colab-df-spinner');\n",
              "      try {\n",
              "        const charts = await google.colab.kernel.invokeFunction(\n",
              "            'suggestCharts', [key], {});\n",
              "      } catch (error) {\n",
              "        console.error('Error during call to suggestCharts:', error);\n",
              "      }\n",
              "      quickchartButtonEl.classList.remove('colab-df-spinner');\n",
              "      quickchartButtonEl.classList.add('colab-df-quickchart-complete');\n",
              "    }\n",
              "    (() => {\n",
              "      let quickchartButtonEl =\n",
              "        document.querySelector('#df-3bef7a5e-2df8-4feb-9dea-dedffb20083c button');\n",
              "      quickchartButtonEl.style.display =\n",
              "        google.colab.kernel.accessAllowed ? 'block' : 'none';\n",
              "    })();\n",
              "  </script>\n",
              "</div>\n",
              "\n",
              "    </div>\n",
              "  </div>\n"
            ],
            "application/vnd.google.colaboratory.intrinsic+json": {
              "type": "dataframe",
              "variable_name": "data",
              "summary": "{\n  \"name\": \"data\",\n  \"rows\": 1000,\n  \"fields\": [\n    {\n      \"column\": \"gender\",\n      \"properties\": {\n        \"dtype\": \"category\",\n        \"num_unique_values\": 2,\n        \"samples\": [\n          \"male\",\n          \"female\"\n        ],\n        \"semantic_type\": \"\",\n        \"description\": \"\"\n      }\n    },\n    {\n      \"column\": \"race/ethnicity\",\n      \"properties\": {\n        \"dtype\": \"category\",\n        \"num_unique_values\": 5,\n        \"samples\": [\n          \"group C\",\n          \"group E\"\n        ],\n        \"semantic_type\": \"\",\n        \"description\": \"\"\n      }\n    },\n    {\n      \"column\": \"parental level of education\",\n      \"properties\": {\n        \"dtype\": \"category\",\n        \"num_unique_values\": 6,\n        \"samples\": [\n          \"bachelor's degree\",\n          \"some college\"\n        ],\n        \"semantic_type\": \"\",\n        \"description\": \"\"\n      }\n    },\n    {\n      \"column\": \"lunch\",\n      \"properties\": {\n        \"dtype\": \"category\",\n        \"num_unique_values\": 2,\n        \"samples\": [\n          \"free/reduced\",\n          \"standard\"\n        ],\n        \"semantic_type\": \"\",\n        \"description\": \"\"\n      }\n    },\n    {\n      \"column\": \"test preparation course\",\n      \"properties\": {\n        \"dtype\": \"category\",\n        \"num_unique_values\": 2,\n        \"samples\": [\n          \"completed\",\n          \"none\"\n        ],\n        \"semantic_type\": \"\",\n        \"description\": \"\"\n      }\n    },\n    {\n      \"column\": \"math score\",\n      \"properties\": {\n        \"dtype\": \"number\",\n        \"std\": 15,\n        \"min\": 0,\n        \"max\": 100,\n        \"num_unique_values\": 81,\n        \"samples\": [\n          55,\n          72\n        ],\n        \"semantic_type\": \"\",\n        \"description\": \"\"\n      }\n    },\n    {\n      \"column\": \"reading score\",\n      \"properties\": {\n        \"dtype\": \"number\",\n        \"std\": 14,\n        \"min\": 17,\n        \"max\": 100,\n        \"num_unique_values\": 72,\n        \"samples\": [\n          78,\n          23\n        ],\n        \"semantic_type\": \"\",\n        \"description\": \"\"\n      }\n    },\n    {\n      \"column\": \"writing score\",\n      \"properties\": {\n        \"dtype\": \"number\",\n        \"std\": 15,\n        \"min\": 10,\n        \"max\": 100,\n        \"num_unique_values\": 77,\n        \"samples\": [\n          75,\n          76\n        ],\n        \"semantic_type\": \"\",\n        \"description\": \"\"\n      }\n    }\n  ]\n}"
            }
          },
          "metadata": {},
          "execution_count": 29
        }
      ]
    },
    {
      "cell_type": "markdown",
      "metadata": {
        "id": "ldoTPKRXhDB3"
      },
      "source": [
        "## Writing to a File"
      ]
    },
    {
      "cell_type": "code",
      "metadata": {
        "id": "KVXr3o7Vgqmy"
      },
      "source": [
        "#open the file in the append mode as the write mode overwrites the first line\n",
        "file1 = open(\"myfile.txt\",\"a\")\n",
        "file1.write(\"Today \\n\")\n",
        "file1.close()"
      ],
      "execution_count": 30,
      "outputs": []
    },
    {
      "cell_type": "markdown",
      "metadata": {
        "id": "TCOCfpWOp1qo"
      },
      "source": [
        "## Scikit Learn\n",
        "\n",
        "Scikit-learn, commonly known as sklearn, is a free Machine Learning library for the Python programming language. It offers numerous classification, regression, and clustering algorithms, including K-Means, Linear Regression, Logistic Regression, Naive Bayes and State Vector Machines, etc. Moreover, it supports tasks such as feature extraction, feature selection, model evaluation, model selection, parameter tuning, etc.\n",
        "\n",
        "Sklearn is a widely used library due to numerous reasons, such as:\n",
        "\n",
        "1.   It is easy to learn and use.\n",
        "2.   It covers all aspects of Machine Learning.\n",
        "3.   It is very versatile and powerful.\n",
        "4.   It is very versatile and powerful.\n",
        "5.   It is an open-source library with an active community and detailed documentation.\n",
        "\n",
        "\n",
        "More information regarding Sklearn, including its implementation, can be found [here](https://scikit-learn.org/stable/).\n"
      ]
    },
    {
      "cell_type": "markdown",
      "metadata": {
        "id": "60c4war2HIAr"
      },
      "source": [
        "## Questions\n",
        "Solve some of the questions below to get more clear understanding of python basics:"
      ]
    },
    {
      "cell_type": "markdown",
      "metadata": {
        "id": "J8Cr9I0fRCdG"
      },
      "source": [
        "**Q1: Write the code to determine the parity of a given number.**             \n",
        "\n",
        "[3 marks]"
      ]
    },
    {
      "cell_type": "code",
      "metadata": {
        "id": "tQ8eUq_vRjMj",
        "colab": {
          "base_uri": "https://localhost:8080/"
        },
        "outputId": "8626bf21-6920-46fe-9b3d-0e3b6c806dcc"
      },
      "source": [
        "### write code here...\n",
        "num = int(input(\"Enter a number\"))\n",
        "if num % 2 == 0:\n",
        "  print(\"The number is even\")\n",
        "else:\n",
        "  print(\"The number is odd\")"
      ],
      "execution_count": 32,
      "outputs": [
        {
          "output_type": "stream",
          "name": "stdout",
          "text": [
            "Enter a number5\n",
            "The number is odd\n"
          ]
        }
      ]
    },
    {
      "cell_type": "markdown",
      "metadata": {
        "id": "pB2VBGtgH0sA"
      },
      "source": [
        "**Q2: For a given list of strings, check if the length of the string is even or odd. Print \"`even`\" or \"`odd`\" accordingly.** [3 marks]"
      ]
    },
    {
      "cell_type": "code",
      "metadata": {
        "id": "9bzTD62FH0sE",
        "colab": {
          "base_uri": "https://localhost:8080/"
        },
        "outputId": "4808988d-8976-449e-93cd-df48c505763f"
      },
      "source": [
        "x = ['alphabets', 'numerics', 'data types', '123', 'wild' ,'abc', 'chars']\n",
        "### write code here...\n",
        "lenOfStr = len(x)\n",
        "if lenOfStr % 2 == 0:\n",
        "  print(\"even\")\n",
        "else:\n",
        "  print(\"odd\")"
      ],
      "execution_count": 34,
      "outputs": [
        {
          "output_type": "stream",
          "name": "stdout",
          "text": [
            "odd\n"
          ]
        }
      ]
    },
    {
      "cell_type": "markdown",
      "metadata": {
        "id": "HuEAV1tiRpB0"
      },
      "source": [
        "**Q3: Write a code to reverse the string \"hello\" using indexing.** [2 marks]"
      ]
    },
    {
      "cell_type": "code",
      "metadata": {
        "id": "Fmv2vpowRuPO",
        "colab": {
          "base_uri": "https://localhost:8080/"
        },
        "outputId": "b2fe75fb-e3a2-4150-e8d9-11d17d0dce63"
      },
      "source": [
        "### write code here...\n",
        "str = \"hello\"\n",
        "print(str[::-1])"
      ],
      "execution_count": 39,
      "outputs": [
        {
          "output_type": "stream",
          "name": "stdout",
          "text": [
            "olleh\n"
          ]
        }
      ]
    },
    {
      "cell_type": "markdown",
      "metadata": {
        "id": "w9uN3aQbldUr"
      },
      "source": [
        "**Q4: For numbers in range 0 to 100, return a list of those that are multiple of 2 but not 5 using list comprehension .**  [3 marks]"
      ]
    },
    {
      "cell_type": "code",
      "metadata": {
        "id": "oMz2wfz5lcHG",
        "colab": {
          "base_uri": "https://localhost:8080/"
        },
        "outputId": "eed49f8c-c4b6-4ec7-d3d5-7c98c7d8585d"
      },
      "source": [
        "### write code here...\n",
        "print([x for x in range(0, 100) if x % 2 == 0 and not (x % 5 == 0)])"
      ],
      "execution_count": 43,
      "outputs": [
        {
          "output_type": "stream",
          "name": "stdout",
          "text": [
            "[2, 4, 6, 8, 12, 14, 16, 18, 22, 24, 26, 28, 32, 34, 36, 38, 42, 44, 46, 48, 52, 54, 56, 58, 62, 64, 66, 68, 72, 74, 76, 78, 82, 84, 86, 88, 92, 94, 96, 98]\n"
          ]
        }
      ]
    },
    {
      "cell_type": "markdown",
      "metadata": {
        "id": "nIbpYb6Q2hEV"
      },
      "source": [
        "**Q5: Generate two numpy arrays x and y of 20 random integers between [1,10], compute a new array where each element is the square of sum of corresponding entries in x and y. Use broadcasting in this question**. [5 marks]\n",
        "\n",
        "For example: x =[1,2,3] , y =[3,4,5]\n",
        "Result: [16, 36, 64]"
      ]
    },
    {
      "cell_type": "code",
      "metadata": {
        "id": "xISKdth141iq",
        "colab": {
          "base_uri": "https://localhost:8080/"
        },
        "outputId": "76abc714-aa28-49f7-8c86-72b782a2b91d"
      },
      "source": [
        "import numpy as np\n",
        "x = np.random.randint(1, 10, size=20)\n",
        "y = np.random.randint(1, 10, size=20)\n",
        "print(np.square(x + y))\n",
        "### write code here..."
      ],
      "execution_count": 44,
      "outputs": [
        {
          "output_type": "stream",
          "name": "stdout",
          "text": [
            "[324  49  81  81  81 225 225 100 121 100  16 144  49 100  64 100 196  49\n",
            " 121  64]\n"
          ]
        }
      ]
    },
    {
      "cell_type": "markdown",
      "metadata": {
        "id": "YvUa7J2tK-Y6"
      },
      "source": [
        "**Q6: Given two dictionaries of ids and Mathematics scores, write a function to return a dictionary where keys are students ids and values are a list containing the corresponding student's name and their score.** [5 marks]\n"
      ]
    },
    {
      "cell_type": "code",
      "metadata": {
        "id": "B6CKH7EkLNeP",
        "colab": {
          "base_uri": "https://localhost:8080/"
        },
        "outputId": "d42af268-706c-4f47-9566-8cd1848bbae3"
      },
      "source": [
        "from collections import defaultdict\n",
        "ids = {4: 'John', 2: 'Robert', 1: 'Alice', 3: 'William', 5: 'Edward'} ## keys are student ids and values are student names\n",
        "maths_scores = {2: 89, 1: 78.8, 3: 100, 5: 67.5, 4: 45}  ## keys are student ids and values are student scores\n",
        "\n",
        "### write code here..\n",
        "def combine_records(ids, maths_scores):\n",
        "  result = {}\n",
        "  for idx, name in ids.items():\n",
        "    if idx in maths_scores:\n",
        "      result[idx] = [name, maths_scores[idx]]\n",
        "  return result\n",
        "\n",
        "print(combine_records(ids, maths_scores))"
      ],
      "execution_count": 45,
      "outputs": [
        {
          "output_type": "stream",
          "name": "stdout",
          "text": [
            "{4: ['John', 45], 2: ['Robert', 89], 1: ['Alice', 78.8], 3: ['William', 100], 5: ['Edward', 67.5]}\n"
          ]
        }
      ]
    },
    {
      "cell_type": "markdown",
      "metadata": {
        "id": "c6MuT8TYLnvv"
      },
      "source": [
        "**Q7: Given a numpy array `x`, write a function to find all negative elements and replace them with their squares. Use boolean indexing.** [3 marks]"
      ]
    },
    {
      "cell_type": "code",
      "metadata": {
        "id": "tWEfvOzhLjER",
        "colab": {
          "base_uri": "https://localhost:8080/"
        },
        "outputId": "9643d544-82a5-4a6d-ddeb-fab9edb332ab"
      },
      "source": [
        "x = np.array([[4,-5,7,-10],[-110,4,-8,34],[14,5,-17,-20]])\n",
        "neg_mask = x < 0\n",
        "print(neg_mask)\n",
        "x[neg_mask] = np.square(x[neg_mask])\n",
        "print(x)\n",
        "### write code here..."
      ],
      "execution_count": 49,
      "outputs": [
        {
          "output_type": "stream",
          "name": "stdout",
          "text": [
            "[[False  True False  True]\n",
            " [ True False  True False]\n",
            " [False False  True  True]]\n",
            "[[    4    25     7   100]\n",
            " [12100     4    64    34]\n",
            " [   14     5   289   400]]\n"
          ]
        }
      ]
    },
    {
      "cell_type": "markdown",
      "metadata": {
        "id": "OKej-1UHSAbf"
      },
      "source": [
        "**Q8: Write a function which takes that numpy 1-D array as input and returns the following:**  [3 marks]\n",
        "\n",
        "\n",
        "1.   Maximum value in the array\n",
        "2.   Standard Deviation\n",
        "3.   Sum of all the elements in the array\n",
        "\n",
        "\n",
        "\n",
        "\n",
        "\n"
      ]
    },
    {
      "cell_type": "code",
      "metadata": {
        "id": "Y70Mv7HISUOl",
        "colab": {
          "base_uri": "https://localhost:8080/"
        },
        "outputId": "9b0ee8b0-1fed-466e-d25c-9831fb935e83"
      },
      "source": [
        "x = np.array([[4,-5,7,-10],[-110,4,-8,34],[14,5,-17,-20]])\n",
        "### write code here...\n",
        "def stats(x):\n",
        "  print(np.max(x))\n",
        "  print(np.std(x))\n",
        "  print(np.sum(x))\n",
        "stats(x)"
      ],
      "execution_count": 50,
      "outputs": [
        {
          "output_type": "stream",
          "name": "stdout",
          "text": [
            "34\n",
            "33.62662635472075\n",
            "-102\n"
          ]
        }
      ]
    },
    {
      "cell_type": "markdown",
      "metadata": {
        "id": "GyE7f5cdSjme"
      },
      "source": [
        "**Q9: Write a Python function that accepts a string and calculates the number of upper case letters and lower case letters.**   [3 marks]\n",
        "\n"
      ]
    },
    {
      "cell_type": "code",
      "metadata": {
        "id": "iPawA5zjSqJ5",
        "colab": {
          "base_uri": "https://localhost:8080/"
        },
        "outputId": "5458e2cf-3d0d-4b92-831e-702f901030a0"
      },
      "source": [
        "str = \"Hello Mr. Rogers, how are you this fine Tuesday?\"\n",
        "### write code here...\n",
        "def count_upper_lower(str):\n",
        "  upper_count = 0\n",
        "  lower_count = 0\n",
        "  for char in str:\n",
        "    if char.isupper():\n",
        "      upper_count += 1\n",
        "    elif char.islower():\n",
        "      lower_count += 1\n",
        "\n",
        "  print(\"No. of Upper case characters :\", upper_count)\n",
        "  print(\"No. of Lower case characters :\", lower_count)\n",
        "count_upper_lower(str)\n"
      ],
      "execution_count": 51,
      "outputs": [
        {
          "output_type": "stream",
          "name": "stdout",
          "text": [
            "No. of Upper case characters : 4\n",
            "No. of Lower case characters : 33\n"
          ]
        }
      ]
    },
    {
      "cell_type": "markdown",
      "metadata": {
        "id": "vGhdJEBISz0T"
      },
      "source": [
        "**Q10: Write a function that prints the integers from 1 to 100. But for multiples of three, print \"Fizz\" instead of the number, and for the multiples of five print \"Buzz\". For numbers which are multiples of both three and five print \"FizzBuzz\".**   [3 marks]"
      ]
    },
    {
      "cell_type": "code",
      "metadata": {
        "id": "1rXLf2KWS74A",
        "colab": {
          "base_uri": "https://localhost:8080/"
        },
        "outputId": "3727787e-236b-483c-fbab-7746c10667e7"
      },
      "source": [
        "### write code here...\n",
        "for i in range(1, 101):\n",
        "  if i % 3 == 0 and i % 5 == 0:\n",
        "    print(\"FizzBuzz\")\n",
        "  elif i % 3 == 0:\n",
        "    print(\"Fizz\")\n",
        "  elif i % 5 == 0:\n",
        "    print(\"Buzz\")\n",
        "  else:\n",
        "    print(i)\n",
        "\n"
      ],
      "execution_count": 52,
      "outputs": [
        {
          "output_type": "stream",
          "name": "stdout",
          "text": [
            "1\n",
            "2\n",
            "Fizz\n",
            "4\n",
            "Buzz\n",
            "Fizz\n",
            "7\n",
            "8\n",
            "Fizz\n",
            "Buzz\n",
            "11\n",
            "Fizz\n",
            "13\n",
            "14\n",
            "FizzBuzz\n",
            "16\n",
            "17\n",
            "Fizz\n",
            "19\n",
            "Buzz\n",
            "Fizz\n",
            "22\n",
            "23\n",
            "Fizz\n",
            "Buzz\n",
            "26\n",
            "Fizz\n",
            "28\n",
            "29\n",
            "FizzBuzz\n",
            "31\n",
            "32\n",
            "Fizz\n",
            "34\n",
            "Buzz\n",
            "Fizz\n",
            "37\n",
            "38\n",
            "Fizz\n",
            "Buzz\n",
            "41\n",
            "Fizz\n",
            "43\n",
            "44\n",
            "FizzBuzz\n",
            "46\n",
            "47\n",
            "Fizz\n",
            "49\n",
            "Buzz\n",
            "Fizz\n",
            "52\n",
            "53\n",
            "Fizz\n",
            "Buzz\n",
            "56\n",
            "Fizz\n",
            "58\n",
            "59\n",
            "FizzBuzz\n",
            "61\n",
            "62\n",
            "Fizz\n",
            "64\n",
            "Buzz\n",
            "Fizz\n",
            "67\n",
            "68\n",
            "Fizz\n",
            "Buzz\n",
            "71\n",
            "Fizz\n",
            "73\n",
            "74\n",
            "FizzBuzz\n",
            "76\n",
            "77\n",
            "Fizz\n",
            "79\n",
            "Buzz\n",
            "Fizz\n",
            "82\n",
            "83\n",
            "Fizz\n",
            "Buzz\n",
            "86\n",
            "Fizz\n",
            "88\n",
            "89\n",
            "FizzBuzz\n",
            "91\n",
            "92\n",
            "Fizz\n",
            "94\n",
            "Buzz\n",
            "Fizz\n",
            "97\n",
            "98\n",
            "Fizz\n",
            "Buzz\n"
          ]
        }
      ]
    },
    {
      "cell_type": "markdown",
      "metadata": {
        "id": "xADW_rCrTE1W"
      },
      "source": [
        "**Q11: Write a function, `calculateSum(l,k)` which will take a list, `l` and a number `k` as input and return two numbers from `l` that add up to `k`.**   [5 marks]"
      ]
    },
    {
      "cell_type": "code",
      "metadata": {
        "id": "Vgrax_Z-TIax",
        "colab": {
          "base_uri": "https://localhost:8080/"
        },
        "outputId": "42347827-a606-449c-ed87-0f44148c83ea"
      },
      "source": [
        "l = [1, 21, 3, 14, 5, 60, 7, 6]\n",
        "k = 81\n",
        "### write code here...\n",
        "for i in range(len(l)):\n",
        "  for j in range(i + 1, len(l)):\n",
        "    if l[i] + l[j] == k:\n",
        "      print(l[i], l[j])\n",
        "      break"
      ],
      "execution_count": 53,
      "outputs": [
        {
          "output_type": "stream",
          "name": "stdout",
          "text": [
            "21 60\n"
          ]
        }
      ]
    },
    {
      "cell_type": "markdown",
      "metadata": {
        "id": "rz4skoNTTPab"
      },
      "source": [
        "**Q12: Write a function, `find_students`  that receives the students dictionary and an address, and returns a list with names in sorted order of all students whose address matches the address in the argument.**   [5 marks]"
      ]
    },
    {
      "cell_type": "code",
      "metadata": {
        "id": "C0MZwcLLTUQP",
        "colab": {
          "base_uri": "https://localhost:8080/"
        },
        "outputId": "f6be4adc-762c-47c8-921c-3a6cffad299d"
      },
      "source": [
        "def find_students(address, students):\n",
        "  names = []\n",
        "  ### write code here...\n",
        "  for name, info in students.items():\n",
        "    if info[\"address\"] == address:\n",
        "      names.append(name)\n",
        "  names.sort()\n",
        "\n",
        "  return names\n",
        "\n",
        "students = {\n",
        "      \"Ali\": {\"age\": 6, \"address\": \"Lahore\"},\n",
        "      \"Ahmad\": {\"age\": 15, \"address\": \"Islamabad\"},\n",
        "      \"Eesha\": {\"age\": 21, \"address\": \"Karachi\"},\n",
        "}\n",
        "print(find_students(\"Lahore\", students))"
      ],
      "execution_count": 55,
      "outputs": [
        {
          "output_type": "stream",
          "name": "stdout",
          "text": [
            "['Ali']\n"
          ]
        }
      ]
    },
    {
      "cell_type": "markdown",
      "metadata": {
        "id": "iZ8SMLqQTdFR"
      },
      "source": [
        "**Q13: Edit the following iterator class to return all the positive even numbers from 1 to (n).**      [3 marks]"
      ]
    },
    {
      "cell_type": "code",
      "metadata": {
        "id": "AowdlG29Thhg",
        "colab": {
          "base_uri": "https://localhost:8080/"
        },
        "outputId": "2b218bd0-05f1-4895-b408-4a94fe9dd25e"
      },
      "source": [
        "class EvenNumbers:\n",
        "    def __init__(self, n):\n",
        "        self.n = n\n",
        "        self.current = 1  # start from 1\n",
        "\n",
        "    def __iter__(self):\n",
        "        return self\n",
        "\n",
        "    def __next__(self):\n",
        "        # Loop until we either find an even number or exceed n\n",
        "        while self.current <= self.n:\n",
        "            if self.current % 2 == 0:\n",
        "                result = self.current\n",
        "                self.current += 1  # move to the next number\n",
        "                return result\n",
        "            self.current += 1  # skip odd numbers\n",
        "        # If no more even numbers, stop iteration\n",
        "        raise StopIteration\n",
        "\n",
        "# Create an instance of the iterator for numbers from 1 to 10\n",
        "myrange = EvenNumbers(10)\n",
        "\n",
        "# Print all even numbers from 1 to 10 using the iterator\n",
        "for num in myrange:\n",
        "    print(num)"
      ],
      "execution_count": 63,
      "outputs": [
        {
          "output_type": "stream",
          "name": "stdout",
          "text": [
            "2\n",
            "4\n",
            "6\n",
            "8\n",
            "10\n"
          ]
        }
      ]
    },
    {
      "cell_type": "markdown",
      "metadata": {
        "id": "P8vZbdD8Tr9v"
      },
      "source": [
        "**Q14: Using keys and indexing, grab the 'hello' from the given dictionaries.**\n",
        "[3 marks]\n"
      ]
    },
    {
      "cell_type": "code",
      "metadata": {
        "id": "r1nI0vt7Tzxy",
        "colab": {
          "base_uri": "https://localhost:8080/"
        },
        "outputId": "dd8f7f0d-0215-4fbc-e6af-ba71a5eb8402"
      },
      "source": [
        "d1 = {'simple_key':'hello'}\n",
        "\n",
        "d2 = {'k1':{'k2':'hello'}}\n",
        "\n",
        "d3 = {'k1':[{'nest_key':['this is deep',['hello']]}]}\n",
        "\n",
        "### write code here...\n",
        "print(d1['simple_key'])\n",
        "print(d2['k1']['k2'])\n",
        "print(d3['k1'][0]['nest_key'][1][0])"
      ],
      "execution_count": 66,
      "outputs": [
        {
          "output_type": "stream",
          "name": "stdout",
          "text": [
            "hello\n",
            "hello\n",
            "hello\n"
          ]
        }
      ]
    },
    {
      "cell_type": "markdown",
      "metadata": {
        "id": "5f8yWxZwGBH-"
      },
      "source": [
        "**Q15: Write a python Class that accepts a tuple, has two instance variables, setter and getter methods and also write these methods to compute results accordingly:** [10 marks]\n",
        "\n",
        "1.   def Addition(tup )\n",
        "2.   def  Subtraction (tup)\n",
        "3.   def Multiplication(tup)\n",
        "4.   def Division(tup )\n",
        "5.   def Power(tup)\n"
      ]
    },
    {
      "cell_type": "code",
      "metadata": {
        "id": "2gPaYB_6GtMQ",
        "colab": {
          "base_uri": "https://localhost:8080/"
        },
        "outputId": "2f1d683e-a934-48f2-e1a3-f0a5e323c8a0"
      },
      "source": [
        "### write code here...\n",
        "class Calculator:\n",
        "  def __init__(self, tup):\n",
        "    self.tup = tup\n",
        "    self.a = tup[0]\n",
        "    self.b = tup[1]\n",
        "\n",
        "  def Addition(self):\n",
        "    return self.a + self.b\n",
        "\n",
        "  def Subtraction(self):\n",
        "    return self.a - self.b\n",
        "\n",
        "  def Multiplication(self):\n",
        "    return self.a * self.b\n",
        "\n",
        "  def Division(self):\n",
        "    return self.a / self.b\n",
        "\n",
        "  def Power(self):\n",
        "    return self.a ** self.b\n",
        "\n",
        "tup = (2, 3)\n",
        "calc = Calculator(tup)\n",
        "print(calc.Addition())\n",
        "print(calc.Subtraction())\n",
        "print(calc.Multiplication())\n",
        "print(calc.Division())\n",
        "print(calc.Power())"
      ],
      "execution_count": 67,
      "outputs": [
        {
          "output_type": "stream",
          "name": "stdout",
          "text": [
            "5\n",
            "-1\n",
            "6\n",
            "0.6666666666666666\n",
            "8\n"
          ]
        }
      ]
    },
    {
      "cell_type": "markdown",
      "metadata": {
        "id": "NwuvJ74zL9cr"
      },
      "source": [
        "**Q16. For given array x of floating point numbers. Print plots for the following functions with the specified properties. Make a different subplot for each listed number.**    [10 marks]\n",
        "\n",
        "1. y1 = $x^{2}$,\n",
        "y2 = $x^{3}$\n",
        "* X and Y axis labels\n",
        "* Legend in top left corner\n",
        "* Give appropriate title\n",
        "* y1 line with green color\n",
        "* y2 line with orange color\n",
        "\n",
        "2. y1 = $sin(x)^{2}$ * $sin(x)^{3}$\n",
        "* X and Y axis labels\n",
        "* Legend in top center\n",
        "* Give appropriate title\n",
        "* line fontsize 15\n",
        "\n",
        "3. y1 = $cos(x)^{2}$\n",
        "* X and Y axis labels\n",
        "* Legend in bottom right corner\n",
        "* Give appropriate title\n",
        "* y1 graph with green circles only and circles should not be connected via line.\n",
        "\n"
      ]
    },
    {
      "cell_type": "code",
      "metadata": {
        "id": "yhB8hFK0TALX",
        "colab": {
          "base_uri": "https://localhost:8080/",
          "height": 486
        },
        "outputId": "4511acda-6185-4c79-8872-95cec6056239"
      },
      "source": [
        "x = np.arange(-10,10, 0.2)\n",
        "## Write your code here...\n",
        "import matplotlib.pyplot as plt\n",
        "fig, axs = plt.subplots(3, 1)\n",
        "\n",
        "y1 = x ** 2\n",
        "y2 = x ** 3\n",
        "axs[0].plot(x, y1, label='y1', color='green')\n",
        "axs[0].plot(x, y2, label='y2', color='orange')\n",
        "axs[0].set_xlabel('X')\n",
        "axs[0].set_ylabel('Y')\n",
        "axs[0].legend(loc='upper left')\n",
        "axs[0].set_title('y1 = x^2, y2 = x^3')\n",
        "\n",
        "y1 = np.sin(x) ** 2 * np.sin(x) ** 3\n",
        "axs[1].plot(x, y1, label=r'$y = \\sin^2(x) * \\sin^3(x)$', linewidth=2)\n",
        "axs[1].set_xlabel('X')\n",
        "axs[1].set_ylabel('Y')\n",
        "axs[1].legend(loc='center')\n",
        "axs[1].set_title('y1 = sin(x)^2 * sin(x)^3')\n",
        "\n",
        "y1 = np.cos(x) ** 2\n",
        "axs[2].scatter(x, y1, color='green', label=r'$y = \\cos^2(x)$', marker='o')\n",
        "axs[2].set_xlabel('X')\n",
        "axs[2].set_ylabel('Y')\n",
        "axs[2].legend(loc='lower right')\n",
        "axs[2].set_title('y1 = cos(x)^2')\n",
        "\n",
        "plt.tight_layout()\n",
        "plt.show()"
      ],
      "execution_count": 73,
      "outputs": [
        {
          "output_type": "display_data",
          "data": {
            "text/plain": [
              "<Figure size 640x480 with 3 Axes>"
            ],
            "image/png": "[encoded data removed]"
          },
          "metadata": {}
        }
      ]
    },
    {
      "cell_type": "markdown",
      "metadata": {
        "id": "OAuW-W6ZltOx"
      },
      "source": [
        "**Q17: Read the data given in the file `students data` and display it.\n",
        "Also, plot the Math, Reading, and Writing Scores along with the name of the student. Make different plots for all three scores.** [10 marks]\n",
        "\n",
        "Remember to do the following:\n",
        "\n",
        "1.   Assign X and Y labels\n",
        "2.   Assign an appropriate title\n",
        "\n",
        "\n",
        "\n",
        "\n"
      ]
    },
    {
      "cell_type": "code",
      "metadata": {
        "id": "wjBkd4a_nR2e"
      },
      "source": [
        "## Write your code here..."
      ],
      "execution_count": null,
      "outputs": []
    },
    {
      "cell_type": "markdown",
      "metadata": {
        "id": "DSLdLbomJ4qw"
      },
      "source": [
        "## Tweets analysis using Regex\n",
        "Given the dataset of [twitter](https://drive.google.com/file/d/1QtIakKroPYEH-Fe-Au7du9978KIml9d-/view?usp=sharing), we can use the Regex expressions to search for patterns in tweets. Solving some of the questions below can help you in getting better understanding of REGEX."
      ]
    },
    {
      "cell_type": "markdown",
      "metadata": {
        "id": "xs-J-ibGKaWp"
      },
      "source": [
        "**Q18. Search for all twitter handles in the tweets. In a tweet all `@sometext` act as the twitter handle. Return a set of all handler. Note: A Set doesn't contain duplicates.**  [5 marks]"
      ]
    },
    {
      "cell_type": "code",
      "metadata": {
        "id": "N1ozORWqND9Y"
      },
      "source": [
        "### write code here..."
      ],
      "execution_count": null,
      "outputs": []
    },
    {
      "cell_type": "markdown",
      "metadata": {
        "id": "fBUqbyaPNBe2"
      },
      "source": [
        "**Q19: Remove all punctuation marks from the tweets. Return a list of all the cleaned tweets. Punctuation marks include period, comma, semi-colon, exclaimation mark, question mark and semicolon.**      [3 marks]"
      ]
    },
    {
      "cell_type": "code",
      "metadata": {
        "id": "ONaXfQLBSFKr"
      },
      "source": [
        "### write code here..."
      ],
      "execution_count": null,
      "outputs": []
    },
    {
      "cell_type": "markdown",
      "metadata": {
        "id": "XToIySemNCAv"
      },
      "source": [
        "**Q20 Return a list of all words that start with either a digit or an upper case alphabet.** [3 marks]"
      ]
    },
    {
      "cell_type": "code",
      "metadata": {
        "id": "5uCaJOAdScNy"
      },
      "source": [
        "### write code here..."
      ],
      "execution_count": null,
      "outputs": []
    },
    {
      "cell_type": "markdown",
      "metadata": {
        "id": "pHshfF2jNCFp"
      },
      "source": [
        "**Q21 Return the top 10 most frequently used hastags(`#`) in all the tweets.**  [5 marks]"
      ]
    },
    {
      "cell_type": "code",
      "metadata": {
        "id": "Eur9Oh1xWzwP"
      },
      "source": [
        "### write code here..."
      ],
      "execution_count": null,
      "outputs": []
    },
    {
      "cell_type": "markdown",
      "metadata": {
        "id": "RFaIh_HlW4y9"
      },
      "source": [
        "**Q22: Remove all urls (starting with http/https) from the tweets and return a list of them.** [5 marks]\n",
        "\n",
        "\n"
      ]
    },
    {
      "cell_type": "code",
      "metadata": {
        "id": "Xyh5tYLs_ogq"
      },
      "source": [
        "### write code here..."
      ],
      "execution_count": null,
      "outputs": []
    }
  ]
}