{
  "cells": [
    {
      "cell_type": "markdown",
      "metadata": {
        "id": "view-in-github",
        "colab_type": "text"
      },
      "source": [
        "<a href=\"https://colab.research.google.com/github/ShaheryarRafique/machine-learning/blob/main/Linear_Regression.ipynb\" target=\"_parent\"><img src=\"https://colab.research.google.com/assets/colab-badge.svg\" alt=\"Open In Colab\"/></a>"
      ]
    },
    {
      "cell_type": "markdown",
      "metadata": {
        "id": "OiDyCYkYBhga"
      },
      "source": [
        "# Programming Assignment 2: Linear Regression\n",
        "\n",
        "## Instructions\n",
        "\n",
        "- The aim of this assignment is to give you a hands-on with a real-life machine learning application.\n",
        "- Use separate training, and testing data as discussed in class.\n",
        "- You can only use Python programming language and Jupyter Notebooks.\n",
        "- There are three parts of this assignment. In parts 1 & 2, you can only use **numpy, scipy, pandas, matplotlib and are not allowed to use NLTK, scikit-learn or any other machine learning toolkit**. However, you have to use **scikit-learn** in part 3.\n",
        "- Carefully read the submission instructions, plagiarism and late days policy below.\n",
        "- Deadline to submit this assignment is: **Monday, 8th November 2021**.\n",
        "\n",
        "## Submission Instructions\n",
        "\n",
        "Submit your code both as notebook file (.ipynb) and python script (.py) on LMS. The name of both files should be your roll number. If you don’t know how to save .ipynb as .py [see this](https://i.stack.imgur.com/L1rQH.png). **Failing to submit any one of them will result in the reduction of marks**.\n",
        "\n",
        "## Plagiarism Policy\n",
        "\n",
        "The code MUST be done independently. Any plagiarism or cheating of work from others or the internet will be immediately referred to the DC. If you are confused about what constitutes plagiarism, it is YOUR responsibility to consult with the instructor or the TA in a timely manner. No “after the fact” negotiations will be possible. The only way to guarantee that you do not lose marks is “DO NOT LOOK AT ANYONE ELSE'S CODE NOR DISCUSS IT WITH THEM”.\n",
        "\n",
        "## Late Days Policy\n",
        "\n",
        "The deadline of the assignment is final. However, in order to accommodate all the 11th hour issues there is a late submission policy i.e. you can submit your assignment within 3 days after the deadline with 25% deduction each day.\n",
        "\n",
        "\n",
        "## Introduction\n",
        "\n",
        "In this exercise, you will implement linear regression and get to see it work on data. After completing this assignment, you will know:\n",
        "- How to implement linear regression from scratch.\n",
        "- How to estimate linear regression parameters using gradient descent.\n",
        "- How to make predictions on new data using learned parameters.\n",
        "\n",
        "Let's start with the necessary imports."
      ]
    },
    {
      "cell_type": "code",
      "execution_count": 26,
      "metadata": {
        "id": "DiCTRAvwBhgc"
      },
      "outputs": [],
      "source": [
        "import os\n",
        "import numpy as np\n",
        "from matplotlib import pyplot\n",
        "%matplotlib inline\n",
        "from IPython.core.interactiveshell import InteractiveShell\n",
        "InteractiveShell.ast_node_interactivity = \"all\"\n",
        "np.set_printoptions(threshold=np.inf, linewidth=1000)"
      ]
    },
    {
      "cell_type": "markdown",
      "metadata": {
        "id": "EaqJNd3rBhgd"
      },
      "source": [
        "## 1. Linear Regression with one variable\n",
        "\n",
        "Linear regression assumes a linear relationship between the input variables (X) and the single output variable (Y). More specifically, that output (Y) can be calculated from a linear combination of the input variables (X). When there is a single input variable, the method is referred to as a simple linear regression.\n",
        "\n",
        "Now you will implement simple linear regression to predict profits for a food truck. Suppose you are the CEO of a restaurant franchise and are considering different cities for opening a new outlet. The chain already has trucks in various cities and you have data for profits and populations from the cities. You would like to use this data to help you select which city to expand to next."
      ]
    },
    {
      "cell_type": "markdown",
      "metadata": {
        "id": "QA1x5H8rBhge"
      },
      "source": [
        "### 1.1 Load the dataset\n",
        "\n",
        "The file `Data/ex1data1.txt` contains the dataset for our linear regression problem. The first column is the population of a city (in 10,000s) and the second column is the profit of a food truck in that city (in $10,000s). A negative value for profit indicates a loss.\n",
        "\n",
        "We provide you with the code needed to load this data. The dataset is loaded from the data file into the variables `X` and `Y`."
      ]
    },
    {
      "cell_type": "code",
      "execution_count": 7,
      "metadata": {
        "id": "vBdy8kNJBhge",
        "colab": {
          "base_uri": "https://localhost:8080/"
        },
        "outputId": "e86f0ea3-f349-49fd-efda-9bcb4bff8c2a"
      },
      "outputs": [
        {
          "output_type": "stream",
          "name": "stdout",
          "text": [
            "[ 6.1101  5.5277  8.5186  7.0032  5.8598  8.3829  7.4764  8.5781  6.4862\n",
            "  5.0546  5.7107 14.164   5.734   8.4084  5.6407  5.3794  6.3654  5.1301\n",
            "  6.4296  7.0708  6.1891 20.27    5.4901  6.3261  5.5649 18.945  12.828\n",
            " 10.957  13.176  22.203   5.2524  6.5894  9.2482  5.8918  8.2111  7.9334\n",
            "  8.0959  5.6063 12.836   6.3534  5.4069  6.8825 11.708   5.7737  7.8247\n",
            "  7.0931  5.0702  5.8014 11.7     5.5416  7.5402  5.3077  7.4239  7.6031\n",
            "  6.3328  6.3589  6.2742  5.6397  9.3102  9.4536  8.8254  5.1793 21.279\n",
            " 14.908  18.959   7.2182  8.2951 10.236   5.4994 20.341  10.136   7.3345\n",
            "  6.0062  7.2259  5.0269  6.5479  7.5386  5.0365 10.274   5.1077  5.7292\n",
            "  5.1884  6.3557  9.7687  6.5159  8.5172  9.1802  6.002   5.5204  5.0594\n",
            "  5.7077  7.6366  5.8707  5.3054  8.2934 13.394   5.4369]\n"
          ]
        }
      ],
      "source": [
        "data = np.loadtxt(os.path.join('Data', 'ex1data.txt'), delimiter=',')\n",
        "X, Y = data[:, 0], data[:, 1]"
      ]
    },
    {
      "cell_type": "markdown",
      "metadata": {
        "id": "Xlx8ryAcBhge"
      },
      "source": [
        "### 1.2 Plot the dataset\n",
        "Before starting on any task, it is often useful to understand the data by visualizing it. For this dataset, you can use a scatter plot to visualize the data, since it has only two properties to plot (profit and population). Execute the next cell to visualize the data."
      ]
    },
    {
      "cell_type": "code",
      "execution_count": 8,
      "metadata": {
        "id": "ekd15njNBhgf",
        "colab": {
          "base_uri": "https://localhost:8080/",
          "height": 467
        },
        "outputId": "0f6eb611-1efe-418d-e7fc-5506e5cc8ecb"
      },
      "outputs": [
        {
          "output_type": "execute_result",
          "data": {
            "text/plain": [
              "Text(0.5, 0, 'Population of City in 10,000s')"
            ]
          },
          "metadata": {},
          "execution_count": 8
        },
        {
          "output_type": "display_data",
          "data": {
            "text/plain": [
              "<Figure size 640x480 with 1 Axes>"
            ],
            "image/png": "[encoded data removed]"
          },
          "metadata": {}
        }
      ],
      "source": [
        "pyplot.plot(X, Y, 'ro', ms=10, mec='k')\n",
        "pyplot.ylabel('Profit in $10,000')\n",
        "pyplot.xlabel('Population of City in 10,000s')"
      ]
    },
    {
      "cell_type": "markdown",
      "metadata": {
        "id": "q1xcfRuHBhgf"
      },
      "source": [
        "### 1.3 Learn the parameters\n",
        "In this part, you will fit the linear regression parameters $\\theta$ to the food truck dataset using gradient descent.\n",
        "\n",
        "The objective of linear regression is to minimize the cost function\n",
        "\n",
        "$$ J(\\theta) = \\frac{1}{2m} \\sum_{i=1}^m \\left( h_{\\theta}(x^{(i)}) - y^{(i)}\\right)^2 ------ (i)$$\n",
        "\n",
        "where the hypothesis $h_\\theta(x)$ is given by the linear model\n",
        "$$ h_\\theta(x) = \\theta_0 + \\theta_1 x ------ (ii)$$\n",
        "\n",
        "The parameters of your model are the $\\theta_j$ values. These are\n",
        "the values you will adjust to minimize cost $J(\\theta)$. One way to do this is to\n",
        "use the batch gradient descent algorithm. In batch gradient descent, each\n",
        "iteration performs the update\n",
        "\n",
        "$$ \\theta_0 = \\theta_0 - \\alpha \\frac{1}{m} \\sum_{i=1}^m \\left( h_\\theta(x^{(i)}) - y^{(i)}\\right) ------ (iii)$$\n",
        "\n",
        "$$ \\theta_1 = \\theta_1 - \\alpha \\frac{1}{m} \\sum_{i=1}^m \\left( h_\\theta(x^{(i)}) - y^{(i)}\\right)x^{(i)} ------ (iv)$$\n",
        "\n",
        "With each step of gradient descent, your parameters $\\theta_j$ come closer to the optimal values that will achieve the lowest cost J($\\theta$).\n",
        "\n",
        "Let's start by implementing the hypothesis $h_\\theta(x)$."
      ]
    },
    {
      "cell_type": "code",
      "execution_count": 9,
      "metadata": {
        "id": "VYrJvT81Bhgg"
      },
      "outputs": [],
      "source": [
        "### GRADED FUNCTION ###\n",
        "def predict(x, theta0, theta1):\n",
        "    '''\n",
        "    Calculates the hypothesis for any input sample `x` given the parameters `theta`.\n",
        "\n",
        "    Arguments\n",
        "    ---------\n",
        "    x : float\n",
        "        The input sample.\n",
        "\n",
        "    theta0 : float\n",
        "        The parameter for the regression function.\n",
        "\n",
        "    theta1 : float\n",
        "        The parameter for the regression function.\n",
        "\n",
        "    Returns\n",
        "    -------\n",
        "    h_x : float\n",
        "        The hypothesis for input sample.\n",
        "\n",
        "    Hint(s)\n",
        "    -------\n",
        "    Compute equation (ii).\n",
        "    '''\n",
        "    # You need to return the following variable(s) correctly\n",
        "    h_x = 0.0\n",
        "\n",
        "    ### START CODE HERE ### (≈ 1 line of code)\n",
        "    h_x = theta0 + theta1*x\n",
        "\n",
        "    ### END CODE HERE ###\n",
        "\n",
        "    return h_x"
      ]
    },
    {
      "cell_type": "markdown",
      "metadata": {
        "id": "hCxrxZogBhgg"
      },
      "source": [
        "Execute the next cell to verify your implementation."
      ]
    },
    {
      "cell_type": "code",
      "execution_count": 10,
      "metadata": {
        "id": "fAFeeInrBhgg",
        "colab": {
          "base_uri": "https://localhost:8080/"
        },
        "outputId": "e0605c94-aeb5-409c-db57-9da83b64864e"
      },
      "outputs": [
        {
          "output_type": "stream",
          "name": "stdout",
          "text": [
            "With x = 2, theta0 = 1.0, theta1 = 1.0\n",
            "Predicted Hypothesis h(x) = 3.00\n",
            "Expected hypothesis h(x) = 3.00\n",
            "\n"
          ]
        }
      ],
      "source": [
        "h_x = predict(x=2, theta0=1.0, theta1=1.0)\n",
        "print('With x = 2, theta0 = 1.0, theta1 = 1.0\\nPredicted Hypothesis h(x) = %.2f' % h_x)\n",
        "print(\"Expected hypothesis h(x) = 3.00\\n\")"
      ]
    },
    {
      "cell_type": "markdown",
      "metadata": {
        "id": "XaebdJwxBhgg"
      },
      "source": [
        "As you perform gradient descent to learn minimize the cost function  $J(\\theta)$, it is helpful to monitor the convergence by computing the cost. In this section, you will implement a function to calculate  $J(\\theta)$ so you can check the convergence of your gradient descent implementation."
      ]
    },
    {
      "cell_type": "code",
      "execution_count": 11,
      "metadata": {
        "id": "k6rWrETVBhgh"
      },
      "outputs": [],
      "source": [
        "### GRADED FUNCTION ###\n",
        "def computeCost(X, Y, theta0, theta1):\n",
        "    '''\n",
        "    Computes cost for linear regression. Computes the cost of using `theta` as the\n",
        "    parameter for linear regression to fit the data points in `X` and `Y`.\n",
        "\n",
        "    Arguments\n",
        "    ---------\n",
        "    X : array\n",
        "        The input dataset of shape (m, ), where m is the number of training examples.\n",
        "\n",
        "    Y : array\n",
        "        The values of the function at each data point. This is a vector of\n",
        "        shape (m, ), where m is the number of training examples.\n",
        "\n",
        "    theta0 : float\n",
        "        The parameter for the regression function.\n",
        "\n",
        "    theta1 : float\n",
        "        The parameter for the regression function.\n",
        "\n",
        "    Returns\n",
        "    -------\n",
        "    J : float\n",
        "        The value of the regression cost function.\n",
        "\n",
        "    Hint(s)\n",
        "    -------\n",
        "    Compute equation (i).\n",
        "    '''\n",
        "    # initialize some useful values\n",
        "    m = Y.size  # number of training examples\n",
        "\n",
        "    # You need to return the following variable(s) correctly\n",
        "    J = 0\n",
        "\n",
        "    ### START CODE HERE ### (≈ 3-4 lines of code)\n",
        "    for i in range(m):\n",
        "        h_x = predict(X[i], theta0, theta1)\n",
        "        J += (h_x - Y[i])**2\n",
        "    J = J/(2*m)\n",
        "    ### END CODE HERE ###\n",
        "\n",
        "    return J"
      ]
    },
    {
      "cell_type": "markdown",
      "metadata": {
        "id": "ruB_Qyq3Bhgh"
      },
      "source": [
        "Execute the next cell to verify your implementation."
      ]
    },
    {
      "cell_type": "code",
      "execution_count": 12,
      "metadata": {
        "id": "JkWRhuIQBhgh",
        "colab": {
          "base_uri": "https://localhost:8080/"
        },
        "outputId": "38497e22-d55a-4d1d-e69a-661e97f9ebbe"
      },
      "outputs": [
        {
          "output_type": "stream",
          "name": "stdout",
          "text": [
            "With theta0 = 1.0, theta1 = 1.0\n",
            "Predicted cost J = 10.27\n",
            "Expected cost J = 10.27\n",
            "\n"
          ]
        }
      ],
      "source": [
        "J = computeCost(X, Y, theta0=1.0, theta1=1.0)\n",
        "print('With theta0 = 1.0, theta1 = 1.0\\nPredicted cost J = %.2f' % J)\n",
        "print(\"Expected cost J = 10.27\\n\")"
      ]
    },
    {
      "cell_type": "markdown",
      "metadata": {
        "id": "3dapbH2IBhgh"
      },
      "source": [
        "Next, you will complete a function which implements gradient descent. The loop structure has been written for you, and you only need to supply the updates to parameters $\\theta_j$  within each iteration (epoch).\n",
        "\n",
        "The starter code for the function `gradientDescent` calls `computeCost` on every iteration and saves the cost to a `python` list. Assuming you have implemented `gradientDescent` and `computeCost` correctly, your value of $J(\\theta)$ should never increase, and should converge to a steady value by the end of the algorithm."
      ]
    },
    {
      "cell_type": "code",
      "execution_count": 13,
      "metadata": {
        "id": "5Z6hxdjcBhgh"
      },
      "outputs": [],
      "source": [
        "### GRADED FUNCTION ###\n",
        "def gradientDescent(X, Y, alpha, n_epoch):\n",
        "    \"\"\"\n",
        "    Performs gradient descent to learn `theta`. Updates `theta` by taking `n_epoch`\n",
        "    gradient steps with learning rate `alpha`.\n",
        "\n",
        "    Arguments\n",
        "    ---------\n",
        "    X : array\n",
        "        The input dataset of shape (m, ), where m is the number of training examples.\n",
        "\n",
        "    Y : array\n",
        "        The values of the function at each data point. This is a vector of\n",
        "        shape (m, ), where m is the number of training examples.\n",
        "\n",
        "    alpha : float\n",
        "        The learning rate.\n",
        "\n",
        "    n_epoch : int\n",
        "        The number of iterations for gradient descent.\n",
        "\n",
        "    Returns\n",
        "    -------\n",
        "    theta0 : float\n",
        "        The parameter for the regression function.\n",
        "\n",
        "    theta1 : float\n",
        "        The parameter for the regression function.\n",
        "\n",
        "    J : list\n",
        "        A python list for the values of the cost function after each iteration.\n",
        "\n",
        "    Hint(s)\n",
        "    -------\n",
        "    Compute equation (iii) and (iv).\n",
        "\n",
        "    While debugging, it can be useful to print out the values of\n",
        "    the cost function (computeCost) here.\n",
        "    \"\"\"\n",
        "    # initialize some useful values\n",
        "    m = Y.size  # number of training examples\n",
        "    J = list()  # list to store cost\n",
        "\n",
        "    # You need to return the following variables correctly\n",
        "    theta0 = 0.0\n",
        "    theta1 = 0.0\n",
        "\n",
        "    for epoch in range(n_epoch):\n",
        "        ### START CODE HERE ### (≈ 5-10 lines of code)\n",
        "        grad0 = 0.0\n",
        "        grad1 = 0.0\n",
        "        for i in range(m):\n",
        "          error = predict(X[i], theta0, theta1) - Y[i]\n",
        "          grad0 += error\n",
        "          grad1 += error * X[i]\n",
        "\n",
        "\n",
        "        theta0 = theta0 - (alpha * grad0) / m\n",
        "        theta1 = theta1 - (alpha * grad1) / m\n",
        "        ### END CODE HERE ###\n",
        "\n",
        "        J.append(computeCost(X, Y, theta0, theta1))\n",
        "    return theta0, theta1, J"
      ]
    },
    {
      "cell_type": "markdown",
      "metadata": {
        "id": "RKOJotZNBhgh"
      },
      "source": [
        "Execute the next cell to verify your implementation."
      ]
    },
    {
      "cell_type": "code",
      "execution_count": 15,
      "metadata": {
        "id": "ZopILa6IBhgh",
        "colab": {
          "base_uri": "https://localhost:8080/"
        },
        "outputId": "3fca631a-4cb0-44e5-c61d-5baf04031407"
      },
      "outputs": [
        {
          "output_type": "stream",
          "name": "stdout",
          "text": [
            "Predicted theta0 = -3.6303, theta1 = 1.1664, cost = 4.4834\n",
            "Expected theta0 = -3.6303, theta1 = 1.1664, cost = 4.4834\n"
          ]
        }
      ],
      "source": [
        "n_epoch = 1500\n",
        "alpha = 0.01\n",
        "\n",
        "theta0, theta1, J = gradientDescent(X ,Y, alpha, n_epoch)\n",
        "print('Predicted theta0 = %.4f, theta1 = %.4f, cost = %.4f' % (theta0, theta1, J[-1]))\n",
        "print('Expected theta0 = -3.6303, theta1 = 1.1664, cost = 4.4834')"
      ]
    },
    {
      "cell_type": "markdown",
      "metadata": {
        "id": "J3fciwsTBhgh"
      },
      "source": [
        "### 1.4 Plot the linear fit\n",
        "\n",
        "Use your learned parameters $\\theta_j$ to plot the linear fit."
      ]
    },
    {
      "cell_type": "code",
      "execution_count": 26,
      "metadata": {
        "id": "yKQgS2KXBhgi",
        "colab": {
          "base_uri": "https://localhost:8080/",
          "height": 467
        },
        "outputId": "3ec04573-c83a-4b61-8034-16294920e0bb"
      },
      "outputs": [
        {
          "output_type": "execute_result",
          "data": {
            "text/plain": [
              "<matplotlib.legend.Legend at 0x7baf3cde76d0>"
            ]
          },
          "metadata": {},
          "execution_count": 26
        },
        {
          "output_type": "display_data",
          "data": {
            "text/plain": [
              "<Figure size 640x480 with 1 Axes>"
            ],
            "image/png": "[encoded data removed]"
          },
          "metadata": {}
        }
      ],
      "source": [
        "h_x = list()\n",
        "for x in X:\n",
        "    h_x.append(predict(x, theta0, theta1))\n",
        "pyplot.plot(X, Y, 'ro', ms=10, mec='k')\n",
        "pyplot.ylabel('Profit in $10,000')\n",
        "pyplot.xlabel('Population of City in 10,000s')\n",
        "pyplot.plot(X, h_x, '-')\n",
        "pyplot.legend(['Training data', 'Linear regression'])"
      ]
    },
    {
      "cell_type": "markdown",
      "metadata": {
        "id": "x4l-nYOBBhgi"
      },
      "source": [
        "### 1.5 Make predictions\n",
        "\n",
        "Use your learned parameters $\\theta_j$ to make food truck profit predictions in areas with population of 40,000 and 65,000."
      ]
    },
    {
      "cell_type": "code",
      "execution_count": 16,
      "metadata": {
        "id": "lg2tvz1XBhgi",
        "colab": {
          "base_uri": "https://localhost:8080/"
        },
        "outputId": "a128104f-7fcb-46cf-930f-aeb3f1f560d9"
      },
      "outputs": [
        {
          "output_type": "stream",
          "name": "stdout",
          "text": [
            "For population = 40,000, predicted profit = $10351.58\n",
            "For population = 65,000, predicted profit = $39510.64\n"
          ]
        }
      ],
      "source": [
        "print('For population = 40,000, predicted profit = $%.2f' % (predict(4, theta0, theta1)*10000))\n",
        "print('For population = 65,000, predicted profit = $%.2f' % (predict(6.5, theta0, theta1)*10000))"
      ]
    },
    {
      "cell_type": "markdown",
      "metadata": {
        "id": "jsXonRHTBhgi"
      },
      "source": [
        "## 2. Multivariate Linear Regression\n",
        "\n",
        "Now, you will implement multivariate linear regression (from scratch) to predict the the median price of homes in a Boston suburb during the mid-1970s. To do this, you are given with the dataset that has 404 examples in the train set and 102 examples in test set. Each example has 13 input variables (features) and one output variable (price in $10,000s). Below is the description of input variables:\n",
        "\n",
        "- Per capita crime rate.\n",
        "- The proportion of residential land zoned for lots over 25,000 square feet.\n",
        "- The proportion of non-retail business acres per town.\n",
        "- Charles River dummy variable (= 1 if tract bounds river; 0 otherwise).\n",
        "- Nitric oxides concentration (parts per 10 million).\n",
        "- The average number of rooms per dwelling.\n",
        "- The proportion of owner-occupied units built before 1940.\n",
        "- Weighted distances to five Boston employment centers.\n",
        "- Index of accessibility to radial highways.\n",
        "- Full-value property-tax rate per $10,000.\n",
        "- Pupil-teacher ratio by town.\n",
        "- 1000 * (Bk - 0.63) ** 2 where Bk is the proportion of Black people by town.\n",
        "- Percentage lower status of the population.\n",
        "\n",
        "Each one of these input features is stored using a different scale. Some features are represented by a proportion between 0 and 1, other features are ranges between 1 and 12, some are ranges between 0 and 100, and so on. This is often the case with real-world data, and understanding how to explore and clean such data is an important skill to develop.\n",
        "\n",
        "A common way to normalize features that use different scales and ranges is:\n",
        "\n",
        "- Subtract the mean value of each feature from the dataset.\n",
        "- After subtracting the mean, additionally scale (divide) the feature values by their respective standard deviations.\n",
        "\n",
        "Note: We only use examples of the train set to estimate the mean and standard deviation.\n",
        "\n",
        "You have to follow exactly the same steps as above i.e. implement hypothesis, cost function and gradient descent for multivariate linear regression to learn parameters $\\theta$ using train set. Finally, report the cost (error) using your learned parameters $\\theta$ on test set. Expected Mean Square Error on this dataset is 11.5 - 12.5 approximately.\n",
        "\n",
        "We provide you with the code needed to load this dataset. The dataset is loaded from the data files into the variables `train_X`, `train_Y`, `test_X` and `test_Y`."
      ]
    },
    {
      "cell_type": "code",
      "execution_count": 30,
      "metadata": {
        "id": "07ViQBrABhgi"
      },
      "outputs": [],
      "source": [
        "train_X = np.loadtxt(os.path.join('Data', 'ex2traindata.txt'))\n",
        "train_Y = np.loadtxt(os.path.join('Data', 'ex2trainlabels.txt'))\n",
        "test_X = np.loadtxt(os.path.join('Data', 'ex2testdata.txt'))\n",
        "test_Y = np.loadtxt(os.path.join('Data', 'ex2testlabels.txt'))"
      ]
    },
    {
      "cell_type": "code",
      "execution_count": 31,
      "metadata": {
        "id": "lsMQjdt1Bhgi",
        "colab": {
          "base_uri": "https://localhost:8080/",
          "height": 35
        },
        "outputId": "65a8a388-f6fa-4cbd-e6c9-676ddecd0790"
      },
      "outputs": [
        {
          "output_type": "execute_result",
          "data": {
            "text/plain": [
              "' Start your code of part 2 from here, add the new code cells as per your requirement. '"
            ],
            "application/vnd.google.colaboratory.intrinsic+json": {
              "type": "string"
            }
          },
          "metadata": {},
          "execution_count": 31
        }
      ],
      "source": [
        "''' Start your code of part 2 from here, add the new code cells as per your requirement. '''\n",
        "# Calculate mean and std from TRAINING data only\n",
        "mean = np.mean(train_X, axis=0)\n",
        "std = np.std(train_X, axis=0)\n",
        "\n",
        "# Avoid division by zero for constant features\n",
        "std[std == 0] = 1.0\n",
        "\n",
        "# Scale both train and test data\n",
        "train_X_scaled = (train_X - mean) / std\n",
        "test_X_scaled = (test_X - mean) / std"
      ]
    },
    {
      "cell_type": "code",
      "source": [
        "# Predict mutiple regression\n",
        "def predict_multi(x, theta):\n",
        "  '''\n",
        "  Calculates the hypothesis for any input sample `x` given the parameters `theta`.\n",
        "\n",
        "  Arguments\n",
        "  ---------\n",
        "  x : array\n",
        "      The input sample.\n",
        "\n",
        "  theta : array\n",
        "      The parameters for the regression function.\n",
        "\n",
        "  Returns\n",
        "  -------\n",
        "  h_x : float\n",
        "      The hypothesis for input sample.\n",
        "\n",
        "  Hint(s)\n",
        "  -------\n",
        "  Compute equation (ii).\n",
        "  '''\n",
        "  # You need to return the following variable(s) correctly\n",
        "  h_x = np.dot(x, theta)\n",
        "  return h_x"
      ],
      "metadata": {
        "id": "Y0NrpaA4gV6O"
      },
      "execution_count": 33,
      "outputs": []
    },
    {
      "cell_type": "code",
      "source": [
        "# Cost Function\n",
        "def computeCost_multi(X, Y, theta):\n",
        "    '''\n",
        "    Computes cost for linear regression. Computes the cost of using `theta` as the\n",
        "    parameter for linear regression to fit the data points in `X` and `Y`.\n",
        "\n",
        "    Arguments\n",
        "    ---------\n",
        "    X : array\n",
        "        The input dataset of shape (m,\n",
        "        where m is the number of training examples.\n",
        "\n",
        "    Y : array\n",
        "        The values of the function at each data point. This is a vector of\n",
        "        shape (m, ), where m is the number of training examples.\n",
        "\n",
        "    theta : array\n",
        "        The parameters for the regression function. This is a vector of\n",
        "        shape (n+1, ).\n",
        "\n",
        "    Returns\n",
        "    -------\n",
        "    J : float\n",
        "        The value of the regression cost function.\n",
        "\n",
        "    Hint(s)\n",
        "    -------\n",
        "    Compute equation (i).\n",
        "    '''\n",
        "    # initialize some useful values\n",
        "    m = Y.size  # number of training examples\n",
        "\n",
        "    # You need to return the following variable correctly\n",
        "    J = 0\n",
        "\n",
        "    ### START CODE HERE ### (≈ 3-4 lines of code)\n",
        "    for i in range(m):\n",
        "        h_x = predict_multi(X[i], theta)\n",
        "        J += (h_x - Y[i])**2\n",
        "    J = J/(2*m)\n",
        "    ### END CODE HERE ###\n",
        "\n",
        "    return J"
      ],
      "metadata": {
        "id": "jk1CC8HPgx2U"
      },
      "execution_count": 34,
      "outputs": []
    },
    {
      "cell_type": "code",
      "source": [
        "def gradientDescent_multi(X, Y, alpha, n_epoch):\n",
        ""
      ],
      "metadata": {
        "id": "-MgtBBs1hUWX"
      },
      "execution_count": null,
      "outputs": []
    },
    {
      "cell_type": "markdown",
      "metadata": {
        "id": "UJeZf5KBBhgi"
      },
      "source": [
        "## 3. Regularized Linear Regression\n",
        "\n",
        "Now, you'll use the [scikit-learn](https://scikit-learn.org/stable/index.html) to implement [Linear Regression](https://scikit-learn.org/stable/modules/generated/sklearn.linear_model.LinearRegression.html), [Ridge](https://scikit-learn.org/stable/modules/generated/sklearn.linear_model.Ridge.html#sklearn.linear_model.Ridge), [Lasso](https://scikit-learn.org/stable/modules/generated/sklearn.linear_model.Lasso.html#sklearn.linear_model.Lasso), [Elastic Net](https://scikit-learn.org/stable/modules/generated/sklearn.linear_model.ElasticNet.html#sklearn.linear_model.ElasticNet) and apply them to Boston house pricing dataset (provided in part 2). Try out different values of regularization coefficient (known as alpha in scikit-learn) and use the [Mean Squared Error](https://scikit-learn.org/stable/modules/generated/sklearn.metrics.mean_squared_error.html) to report loss with each regression. Finally, plot the regularization coefficients alpha (x-axis) with learned parameters $\\theta$ (y-axis) for Ridge and Lasso. Please read [this blog](https://scienceloft.com/technical/understanding-lasso-and-ridge-regression/) to get better understanding of the desired plots."
      ]
    },
    {
      "cell_type": "code",
      "execution_count": null,
      "metadata": {
        "id": "b-87My2FBhgi"
      },
      "outputs": [],
      "source": [
        "from sklearn.linear_model import LinearRegression\n",
        "from sklearn.linear_model import Ridge\n",
        "from sklearn.linear_model import Lasso\n",
        "from sklearn.linear_model import ElasticNet\n",
        "from sklearn.metrics import mean_squared_error"
      ]
    },
    {
      "cell_type": "code",
      "execution_count": null,
      "metadata": {
        "id": "xokmpzEQBhgi"
      },
      "outputs": [],
      "source": [
        "''' Start your code of part 3 from here, add the new code cells as per your requirement. '''"
      ]
    },
    {
      "cell_type": "code",
      "execution_count": null,
      "metadata": {
        "id": "7Kyb-BOKBhgi"
      },
      "outputs": [],
      "source": []
    }
  ],
  "metadata": {
    "kernelspec": {
      "display_name": "Python 3",
      "language": "python",
      "name": "python3"
    },
    "language_info": {
      "codemirror_mode": {
        "name": "ipython",
        "version": 3
      },
      "file_extension": ".py",
      "mimetype": "text/x-python",
      "name": "python",
      "nbconvert_exporter": "python",
      "pygments_lexer": "ipython3",
      "version": "3.7.6"
    },
    "colab": {
      "provenance": [],
      "include_colab_link": true
    }
  },
  "nbformat": 4,
  "nbformat_minor": 0
}